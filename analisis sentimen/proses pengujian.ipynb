{
 "cells": [
  {
   "cell_type": "markdown",
   "id": "9f1de177",
   "metadata": {},
   "source": [
    "## import library yang digunakan"
   ]
  },
  {
   "cell_type": "code",
   "execution_count": 1,
   "id": "17c67a74",
   "metadata": {},
   "outputs": [],
   "source": [
    "import pandas as pd\n",
    "import csv\n",
    "import string \n",
    "import matplotlib.pyplot as plt\n",
    "import seaborn as sns\n",
    "from sklearn.feature_extraction.text import CountVectorizer, TfidfTransformer\n",
    "from sklearn.metrics import confusion_matrix\n",
    "from sklearn.metrics import accuracy_score"
   ]
  },
  {
   "cell_type": "code",
   "execution_count": 2,
   "id": "dc3b312c",
   "metadata": {},
   "outputs": [
    {
     "data": {
      "text/html": [
       "<div>\n",
       "<style scoped>\n",
       "    .dataframe tbody tr th:only-of-type {\n",
       "        vertical-align: middle;\n",
       "    }\n",
       "\n",
       "    .dataframe tbody tr th {\n",
       "        vertical-align: top;\n",
       "    }\n",
       "\n",
       "    .dataframe thead th {\n",
       "        text-align: right;\n",
       "    }\n",
       "</style>\n",
       "<table border=\"1\" class=\"dataframe\">\n",
       "  <thead>\n",
       "    <tr style=\"text-align: right;\">\n",
       "      <th></th>\n",
       "      <th>username</th>\n",
       "      <th>tanggal</th>\n",
       "      <th>tweet</th>\n",
       "      <th>sentimen</th>\n",
       "    </tr>\n",
       "  </thead>\n",
       "  <tbody>\n",
       "    <tr>\n",
       "      <th>0</th>\n",
       "      <td>pkmjangkar</td>\n",
       "      <td>3/7/2022 23:58</td>\n",
       "      <td>update jadwal vaksinasi covid 19 upt puskesmas...</td>\n",
       "      <td>positif</td>\n",
       "    </tr>\n",
       "    <tr>\n",
       "      <th>1</th>\n",
       "      <td>CNNIndonesia</td>\n",
       "      <td>3/7/2022 23:57</td>\n",
       "      <td>syarat jalan polymerase chain reaction antigen...</td>\n",
       "      <td>netral</td>\n",
       "    </tr>\n",
       "    <tr>\n",
       "      <th>2</th>\n",
       "      <td>DindaNatasha15</td>\n",
       "      <td>3/7/2022 23:56</td>\n",
       "      <td>perintah pasti vaksin covid 19 bukti aman uji ...</td>\n",
       "      <td>positif</td>\n",
       "    </tr>\n",
       "    <tr>\n",
       "      <th>3</th>\n",
       "      <td>juvejack</td>\n",
       "      <td>3/7/2022 23:49</td>\n",
       "      <td>menko maritim investasi luhut pandjaitan tanga...</td>\n",
       "      <td>netral</td>\n",
       "    </tr>\n",
       "    <tr>\n",
       "      <th>4</th>\n",
       "      <td>nengsunshine</td>\n",
       "      <td>3/7/2022 23:47</td>\n",
       "      <td>ok google negatif covid vaksin</td>\n",
       "      <td>netral</td>\n",
       "    </tr>\n",
       "  </tbody>\n",
       "</table>\n",
       "</div>"
      ],
      "text/plain": [
       "         username         tanggal  \\\n",
       "0      pkmjangkar  3/7/2022 23:58   \n",
       "1    CNNIndonesia  3/7/2022 23:57   \n",
       "2  DindaNatasha15  3/7/2022 23:56   \n",
       "3        juvejack  3/7/2022 23:49   \n",
       "4    nengsunshine  3/7/2022 23:47   \n",
       "\n",
       "                                               tweet sentimen  \n",
       "0  update jadwal vaksinasi covid 19 upt puskesmas...  positif  \n",
       "1  syarat jalan polymerase chain reaction antigen...   netral  \n",
       "2  perintah pasti vaksin covid 19 bukti aman uji ...  positif  \n",
       "3  menko maritim investasi luhut pandjaitan tanga...   netral  \n",
       "4                     ok google negatif covid vaksin   netral  "
      ]
     },
     "execution_count": 2,
     "metadata": {},
     "output_type": "execute_result"
    }
   ],
   "source": [
    "df_disini = pd.read_csv('hasil labeling data.csv')\n",
    "df_disini.head()"
   ]
  },
  {
   "cell_type": "code",
   "execution_count": 3,
   "id": "f6a322ea",
   "metadata": {},
   "outputs": [
    {
     "data": {
      "text/html": [
       "<div>\n",
       "<style scoped>\n",
       "    .dataframe tbody tr th:only-of-type {\n",
       "        vertical-align: middle;\n",
       "    }\n",
       "\n",
       "    .dataframe tbody tr th {\n",
       "        vertical-align: top;\n",
       "    }\n",
       "\n",
       "    .dataframe thead th {\n",
       "        text-align: right;\n",
       "    }\n",
       "</style>\n",
       "<table border=\"1\" class=\"dataframe\">\n",
       "  <thead>\n",
       "    <tr style=\"text-align: right;\">\n",
       "      <th></th>\n",
       "      <th>tweet</th>\n",
       "    </tr>\n",
       "  </thead>\n",
       "  <tbody>\n",
       "    <tr>\n",
       "      <th>0</th>\n",
       "      <td>update jadwal vaksinasi covid 19 upt puskesmas...</td>\n",
       "    </tr>\n",
       "    <tr>\n",
       "      <th>1</th>\n",
       "      <td>syarat jalan polymerase chain reaction antigen...</td>\n",
       "    </tr>\n",
       "    <tr>\n",
       "      <th>2</th>\n",
       "      <td>perintah pasti vaksin covid 19 bukti aman uji ...</td>\n",
       "    </tr>\n",
       "    <tr>\n",
       "      <th>3</th>\n",
       "      <td>menko maritim investasi luhut pandjaitan tanga...</td>\n",
       "    </tr>\n",
       "    <tr>\n",
       "      <th>4</th>\n",
       "      <td>ok google negatif covid vaksin</td>\n",
       "    </tr>\n",
       "    <tr>\n",
       "      <th>...</th>\n",
       "      <td>...</td>\n",
       "    </tr>\n",
       "    <tr>\n",
       "      <th>1047</th>\n",
       "      <td>vaksin uji aman khasiat sehat cegah tingkat pa...</td>\n",
       "    </tr>\n",
       "    <tr>\n",
       "      <th>1048</th>\n",
       "      <td>vaksin covid 19 protokol sehat ikhtiar</td>\n",
       "    </tr>\n",
       "    <tr>\n",
       "      <th>1049</th>\n",
       "      <td>waspada info berita palsu berita bohong fakta ...</td>\n",
       "    </tr>\n",
       "    <tr>\n",
       "      <th>1050</th>\n",
       "      <td>simpul narasi bawah orang vaksin mati saji buk...</td>\n",
       "    </tr>\n",
       "    <tr>\n",
       "      <th>1051</th>\n",
       "      <td>byunieel heran selamat kak orang pilih orang s...</td>\n",
       "    </tr>\n",
       "  </tbody>\n",
       "</table>\n",
       "<p>1052 rows × 1 columns</p>\n",
       "</div>"
      ],
      "text/plain": [
       "                                                  tweet\n",
       "0     update jadwal vaksinasi covid 19 upt puskesmas...\n",
       "1     syarat jalan polymerase chain reaction antigen...\n",
       "2     perintah pasti vaksin covid 19 bukti aman uji ...\n",
       "3     menko maritim investasi luhut pandjaitan tanga...\n",
       "4                        ok google negatif covid vaksin\n",
       "...                                                 ...\n",
       "1047  vaksin uji aman khasiat sehat cegah tingkat pa...\n",
       "1048             vaksin covid 19 protokol sehat ikhtiar\n",
       "1049  waspada info berita palsu berita bohong fakta ...\n",
       "1050  simpul narasi bawah orang vaksin mati saji buk...\n",
       "1051  byunieel heran selamat kak orang pilih orang s...\n",
       "\n",
       "[1052 rows x 1 columns]"
      ]
     },
     "execution_count": 3,
     "metadata": {},
     "output_type": "execute_result"
    }
   ],
   "source": [
    "df_disini[['tweet']]"
   ]
  },
  {
   "cell_type": "code",
   "execution_count": 4,
   "id": "24b3edf0",
   "metadata": {},
   "outputs": [
    {
     "name": "stdout",
     "output_type": "stream",
     "text": [
      "3337\n"
     ]
    }
   ],
   "source": [
    "cv = CountVectorizer()\n",
    "term_fit = cv.fit(df_disini['tweet'])\n",
    "\n",
    "print (len(term_fit.vocabulary_))"
   ]
  },
  {
   "cell_type": "markdown",
   "id": "bb208854",
   "metadata": {},
   "source": [
    "print (term_fit.vocabulary_) #mengurutkan berdasarkan urutab abjad kata "
   ]
  },
  {
   "cell_type": "markdown",
   "id": "20729110",
   "metadata": {},
   "source": [
    "print (term_fit.get_feature_names()) #mengurutkan berdasarkan urutkan nama "
   ]
  },
  {
   "cell_type": "code",
   "execution_count": 5,
   "id": "454e7790",
   "metadata": {},
   "outputs": [],
   "source": [
    "term_frequency_all = term_fit.transform(df_disini['tweet'])\n",
    "#print (term_frequency_all)"
   ]
  },
  {
   "cell_type": "code",
   "execution_count": 6,
   "id": "a5f240b3",
   "metadata": {},
   "outputs": [
    {
     "name": "stdout",
     "output_type": "stream",
     "text": [
      "perintah pasti vaksin covid 19 bukti aman uji patuh disiplin protokol sehat\n"
     ]
    }
   ],
   "source": [
    "tweet_tf = df_disini['tweet'][2] #memanggil tweet kolom yg diinginkan\n",
    "print (tweet_tf)"
   ]
  },
  {
   "cell_type": "code",
   "execution_count": 7,
   "id": "cd89404f",
   "metadata": {},
   "outputs": [
    {
     "name": "stdout",
     "output_type": "stream",
     "text": [
      "  (0, 56)\t1\n",
      "  (0, 267)\t1\n",
      "  (0, 611)\t1\n",
      "  (0, 704)\t1\n",
      "  (0, 822)\t1\n",
      "  (0, 2242)\t1\n",
      "  (0, 2249)\t1\n",
      "  (0, 2292)\t1\n",
      "  (0, 2416)\t1\n",
      "  (0, 2684)\t1\n",
      "  (0, 3150)\t1\n",
      "  (0, 3201)\t1\n"
     ]
    }
   ],
   "source": [
    "term_frequency = term_fit.transform([tweet_tf]) #hanya menampilkan tweet kolom yg diinginkan\n",
    "print (term_frequency)"
   ]
  },
  {
   "cell_type": "code",
   "execution_count": 8,
   "id": "8460d122",
   "metadata": {},
   "outputs": [
    {
     "name": "stdout",
     "output_type": "stream",
     "text": [
      "[5.39444915 6.3499606  6.3499606  ... 7.26625133 7.26625133 7.26625133]\n",
      "  (0, 3201)\t0.08564761877333006\n",
      "  (0, 3150)\t0.35389213547338505\n",
      "  (0, 2684)\t0.21780105199854236\n",
      "  (0, 2416)\t0.25523639464570663\n",
      "  (0, 2292)\t0.3085496221565277\n",
      "  (0, 2249)\t0.3886438435077786\n",
      "  (0, 2242)\t0.4192183493889173\n",
      "  (0, 822)\t0.2826449042532804\n",
      "  (0, 704)\t0.08387353216369516\n",
      "  (0, 611)\t0.39235756482522327\n",
      "  (0, 267)\t0.27981038358438814\n",
      "  (0, 56)\t0.11700331113327385\n"
     ]
    }
   ],
   "source": [
    "dokumen = term_fit.transform(df_disini['tweet']) #hasil perhitungan tf idf yg diinginkan\n",
    "tfidf_transformer = TfidfTransformer().fit(dokumen)\n",
    "print (tfidf_transformer.idf_)\n",
    "\n",
    "tfidf=tfidf_transformer.transform(term_frequency)\n",
    "print (tfidf)"
   ]
  },
  {
   "cell_type": "markdown",
   "id": "febcc848",
   "metadata": {},
   "source": [
    "## CountVectorizer"
   ]
  },
  {
   "cell_type": "code",
   "execution_count": 9,
   "id": "b591b94c",
   "metadata": {},
   "outputs": [
    {
     "data": {
      "text/plain": [
       "(1052, 3337)"
      ]
     },
     "execution_count": 9,
     "metadata": {},
     "output_type": "execute_result"
    }
   ],
   "source": [
    "bow_vectorizer = CountVectorizer()\n",
    "bow = bow_vectorizer.fit_transform(df_disini['tweet'])\n",
    "bow.shape"
   ]
  },
  {
   "cell_type": "markdown",
   "id": "2e45101c",
   "metadata": {},
   "source": [
    "## membagi data train dan testing"
   ]
  },
  {
   "cell_type": "code",
   "execution_count": 10,
   "id": "f79719e8",
   "metadata": {},
   "outputs": [],
   "source": [
    "#df_disini=df_disini.fillna(0) #replace all null values by 0\n",
    "from sklearn.model_selection import train_test_split\n",
    "X_train, X_test, y_train, y_test = train_test_split(bow, df_disini['sentimen'],\n",
    "                                                    test_size=0.2,random_state=0)"
   ]
  },
  {
   "cell_type": "code",
   "execution_count": 11,
   "id": "b06baf86",
   "metadata": {},
   "outputs": [
    {
     "name": "stdout",
     "output_type": "stream",
     "text": [
      "train_shape :  (841,)\n",
      "test_shape :  (211,)\n"
     ]
    }
   ],
   "source": [
    "#print(\"X_train_shape : \",X_train.shape)\n",
    "#print(\"X_test_shape : \",X_test.shape)\n",
    "print(\"train_shape : \",y_train.shape)\n",
    "print(\"test_shape : \",y_test.shape)"
   ]
  },
  {
   "cell_type": "markdown",
   "id": "eabf64de",
   "metadata": {},
   "source": [
    "## naive bayes classifier"
   ]
  },
  {
   "cell_type": "code",
   "execution_count": 12,
   "id": "89751030",
   "metadata": {},
   "outputs": [
    {
     "name": "stdout",
     "output_type": "stream",
     "text": [
      "hasil akurasi nbs:  0.7345971563981043\n"
     ]
    }
   ],
   "source": [
    "from sklearn.naive_bayes import MultinomialNB\n",
    "\n",
    "NBC= MultinomialNB().fit(X_train, y_train) \n",
    "uji_nbc= NBC.predict(X_test)\n",
    "akurasi_nbc = accuracy_score(uji_nbc, y_test)\n",
    "print(\"hasil akurasi nbs: \",akurasi_nbc)"
   ]
  },
  {
   "cell_type": "code",
   "execution_count": 13,
   "id": "889bc9c9",
   "metadata": {},
   "outputs": [
    {
     "data": {
      "text/plain": [
       "array([[ 16,   9,   2],\n",
       "       [ 10, 101,  20],\n",
       "       [  1,  14,  38]], dtype=int64)"
      ]
     },
     "execution_count": 13,
     "metadata": {},
     "output_type": "execute_result"
    }
   ],
   "source": [
    "confusion_matrix(y_test, uji_nbc)"
   ]
  },
  {
   "cell_type": "code",
   "execution_count": 14,
   "id": "1080d3d4",
   "metadata": {},
   "outputs": [
    {
     "data": {
      "image/png": "[encoded data removed]",
      "text/plain": [
       "<Figure size 432x288 with 1 Axes>"
      ]
     },
     "metadata": {
      "needs_background": "light"
     },
     "output_type": "display_data"
    }
   ],
   "source": [
    "#plt.figure(dpi=100)\n",
    "matrix = confusion_matrix(y_test, uji_nbc)\n",
    "sns.heatmap(matrix.T, annot=True, fmt='d', cbar=False)\n",
    "\n",
    "plt.title(' Naive Bayes Classifier ')\n",
    "plt.xlabel('true')\n",
    "plt.ylabel('predicted')\n",
    "plt.show()"
   ]
  },
  {
   "cell_type": "code",
   "execution_count": 15,
   "id": "9533757c",
   "metadata": {},
   "outputs": [
    {
     "name": "stdout",
     "output_type": "stream",
     "text": [
      "hasil akurasi nbs:  0.7345971563981043\n"
     ]
    }
   ],
   "source": [
    "akurasi_nbc = accuracy_score(uji_nbc, y_test)\n",
    "print(\"hasil akurasi nbs: \",akurasi_nbc)"
   ]
  },
  {
   "cell_type": "code",
   "execution_count": 16,
   "id": "277750ac",
   "metadata": {},
   "outputs": [
    {
     "name": "stdout",
     "output_type": "stream",
     "text": [
      "              precision    recall  f1-score   support\n",
      "\n",
      "     negatif       0.59      0.59      0.59        27\n",
      "      netral       0.81      0.77      0.79       131\n",
      "     positif       0.63      0.72      0.67        53\n",
      "\n",
      "    accuracy                           0.73       211\n",
      "   macro avg       0.68      0.69      0.69       211\n",
      "weighted avg       0.74      0.73      0.74       211\n",
      "\n"
     ]
    }
   ],
   "source": [
    "from sklearn.metrics import classification_report\n",
    "print(classification_report(y_test,uji_nbc))"
   ]
  },
  {
   "cell_type": "markdown",
   "id": "75892017",
   "metadata": {},
   "source": [
    "## suport vector machine"
   ]
  },
  {
   "cell_type": "code",
   "execution_count": 17,
   "id": "fc582948",
   "metadata": {},
   "outputs": [],
   "source": [
    "from sklearn.svm import SVC\n",
    "\n",
    "SVM = SVC(kernel='linear').fit(X_train, y_train) \n",
    "uji_svm = SVM.predict(X_test)"
   ]
  },
  {
   "cell_type": "code",
   "execution_count": 18,
   "id": "b813b685",
   "metadata": {},
   "outputs": [
    {
     "data": {
      "image/png": "[encoded data removed]",
      "text/plain": [
       "<Figure size 432x288 with 1 Axes>"
      ]
     },
     "metadata": {
      "needs_background": "light"
     },
     "output_type": "display_data"
    }
   ],
   "source": [
    "matrix = confusion_matrix(y_test, uji_svm)\n",
    "sns.heatmap(matrix.T, annot=True, fmt='d', cbar=False)\n",
    "\n",
    "plt.title('support vector machine ')\n",
    "plt.xlabel('true ')\n",
    "plt.ylabel('predicted')\n",
    "plt.show()"
   ]
  },
  {
   "cell_type": "code",
   "execution_count": 19,
   "id": "b220ec49",
   "metadata": {},
   "outputs": [
    {
     "name": "stdout",
     "output_type": "stream",
     "text": [
      "hasil akurasi svm:  0.7725118483412322\n"
     ]
    }
   ],
   "source": [
    "akurasi_svm = accuracy_score(uji_svm, y_test)\n",
    "print(\"hasil akurasi svm: \",akurasi_svm)"
   ]
  },
  {
   "cell_type": "code",
   "execution_count": 20,
   "id": "a82ed540",
   "metadata": {},
   "outputs": [
    {
     "name": "stdout",
     "output_type": "stream",
     "text": [
      "              precision    recall  f1-score   support\n",
      "\n",
      "     negatif       0.51      0.67      0.58        27\n",
      "      netral       0.83      0.82      0.82       131\n",
      "     positif       0.81      0.72      0.76        53\n",
      "\n",
      "    accuracy                           0.77       211\n",
      "   macro avg       0.72      0.73      0.72       211\n",
      "weighted avg       0.78      0.77      0.78       211\n",
      "\n"
     ]
    }
   ],
   "source": [
    "from sklearn.metrics import classification_report\n",
    "print(classification_report(y_test, uji_svm))"
   ]
  },
  {
   "cell_type": "markdown",
   "id": "e7e58fe4",
   "metadata": {},
   "source": [
    "## KNeighborsClassifier"
   ]
  },
  {
   "cell_type": "code",
   "execution_count": 21,
   "id": "5e99e8fc",
   "metadata": {},
   "outputs": [],
   "source": [
    "from sklearn.neighbors import KNeighborsClassifier\n",
    "\n",
    "KNN = KNeighborsClassifier(n_neighbors=5).fit(X_train, y_train) \n",
    "uji_knn = KNN.predict(X_test)"
   ]
  },
  {
   "cell_type": "code",
   "execution_count": 22,
   "id": "5c5da3f5",
   "metadata": {},
   "outputs": [
    {
     "data": {
      "image/png": "[encoded data removed]",
      "text/plain": [
       "<Figure size 432x288 with 1 Axes>"
      ]
     },
     "metadata": {
      "needs_background": "light"
     },
     "output_type": "display_data"
    }
   ],
   "source": [
    "matrix = confusion_matrix(y_test, uji_knn)\n",
    "sns.heatmap(matrix.T, annot=True, fmt='d', cbar=False)\n",
    "\n",
    "plt.title('k-nearest neighbors')\n",
    "plt.xlabel('true')\n",
    "plt.ylabel('predicted')\n",
    "plt.show()\n"
   ]
  },
  {
   "cell_type": "code",
   "execution_count": 23,
   "id": "6f3719fb",
   "metadata": {},
   "outputs": [
    {
     "name": "stdout",
     "output_type": "stream",
     "text": [
      "hasil akurasi k-nn:  0.6635071090047393\n"
     ]
    }
   ],
   "source": [
    "akurasi_knn = accuracy_score(uji_knn, y_test)\n",
    "print(\"hasil akurasi k-nn: \",akurasi_knn)"
   ]
  },
  {
   "cell_type": "code",
   "execution_count": 24,
   "id": "7351eaca",
   "metadata": {},
   "outputs": [
    {
     "name": "stdout",
     "output_type": "stream",
     "text": [
      "              precision    recall  f1-score   support\n",
      "\n",
      "     negatif       0.26      0.41      0.32        27\n",
      "      netral       0.73      0.74      0.74       131\n",
      "     positif       0.86      0.60      0.71        53\n",
      "\n",
      "    accuracy                           0.66       211\n",
      "   macro avg       0.62      0.58      0.59       211\n",
      "weighted avg       0.71      0.66      0.68       211\n",
      "\n"
     ]
    }
   ],
   "source": [
    "from sklearn.metrics import classification_report\n",
    "print(classification_report(y_test, uji_knn))"
   ]
  },
  {
   "cell_type": "code",
   "execution_count": null,
   "id": "a3892d5f",
   "metadata": {},
   "outputs": [],
   "source": []
  }
 ],
 "metadata": {
  "kernelspec": {
   "display_name": "Python 3",
   "language": "python",
   "name": "python3"
  },
  "language_info": {
   "codemirror_mode": {
    "name": "ipython",
    "version": 3
   },
   "file_extension": ".py",
   "mimetype": "text/x-python",
   "name": "python",
   "nbconvert_exporter": "python",
   "pygments_lexer": "ipython3",
   "version": "3.8.8"
  }
 },
 "nbformat": 4,
 "nbformat_minor": 5
}
