{
 "cells": [
  {
   "cell_type": "markdown",
   "id": "4cd6f26d",
   "metadata": {},
   "source": [
    "## import library yang digunakan"
   ]
  },
  {
   "cell_type": "code",
   "execution_count": 37,
   "id": "17c67a74",
   "metadata": {},
   "outputs": [],
   "source": [
    "import pandas as pd\n",
    "import csv\n",
    "import string \n",
    "import matplotlib.pyplot as plt\n",
    "import seaborn as sns\n",
    "from sklearn.feature_extraction.text import CountVectorizer, TfidfTransformer\n",
    "from sklearn.metrics import confusion_matrix\n",
    "from sklearn.metrics import accuracy_score"
   ]
  },
  {
   "cell_type": "code",
   "execution_count": 38,
   "id": "dc3b312c",
   "metadata": {},
   "outputs": [
    {
     "data": {
      "text/html": [
       "<div>\n",
       "<style scoped>\n",
       "    .dataframe tbody tr th:only-of-type {\n",
       "        vertical-align: middle;\n",
       "    }\n",
       "\n",
       "    .dataframe tbody tr th {\n",
       "        vertical-align: top;\n",
       "    }\n",
       "\n",
       "    .dataframe thead th {\n",
       "        text-align: right;\n",
       "    }\n",
       "</style>\n",
       "<table border=\"1\" class=\"dataframe\">\n",
       "  <thead>\n",
       "    <tr style=\"text-align: right;\">\n",
       "      <th></th>\n",
       "      <th>username</th>\n",
       "      <th>tanggal</th>\n",
       "      <th>tweet</th>\n",
       "      <th>sentimen</th>\n",
       "    </tr>\n",
       "  </thead>\n",
       "  <tbody>\n",
       "    <tr>\n",
       "      <th>0</th>\n",
       "      <td>pkmjangkar</td>\n",
       "      <td>3/7/2022 23:58</td>\n",
       "      <td>update jadwal vaksinasi covid 19 upt puskesmas...</td>\n",
       "      <td>positif</td>\n",
       "    </tr>\n",
       "    <tr>\n",
       "      <th>1</th>\n",
       "      <td>CNNIndonesia</td>\n",
       "      <td>3/7/2022 23:57</td>\n",
       "      <td>syarat jalan polymerase chain reaction antigen...</td>\n",
       "      <td>netral</td>\n",
       "    </tr>\n",
       "    <tr>\n",
       "      <th>2</th>\n",
       "      <td>DindaNatasha15</td>\n",
       "      <td>3/7/2022 23:56</td>\n",
       "      <td>perintah pasti vaksin covid 19 bukti aman uji ...</td>\n",
       "      <td>positif</td>\n",
       "    </tr>\n",
       "    <tr>\n",
       "      <th>3</th>\n",
       "      <td>juvejack</td>\n",
       "      <td>3/7/2022 23:49</td>\n",
       "      <td>menko maritim investasi luhut pandjaitan tanga...</td>\n",
       "      <td>netral</td>\n",
       "    </tr>\n",
       "    <tr>\n",
       "      <th>4</th>\n",
       "      <td>nengsunshine</td>\n",
       "      <td>3/7/2022 23:47</td>\n",
       "      <td>ok google negatif covid vaksin</td>\n",
       "      <td>netral</td>\n",
       "    </tr>\n",
       "  </tbody>\n",
       "</table>\n",
       "</div>"
      ],
      "text/plain": [
       "         username         tanggal  \\\n",
       "0      pkmjangkar  3/7/2022 23:58   \n",
       "1    CNNIndonesia  3/7/2022 23:57   \n",
       "2  DindaNatasha15  3/7/2022 23:56   \n",
       "3        juvejack  3/7/2022 23:49   \n",
       "4    nengsunshine  3/7/2022 23:47   \n",
       "\n",
       "                                               tweet sentimen  \n",
       "0  update jadwal vaksinasi covid 19 upt puskesmas...  positif  \n",
       "1  syarat jalan polymerase chain reaction antigen...   netral  \n",
       "2  perintah pasti vaksin covid 19 bukti aman uji ...  positif  \n",
       "3  menko maritim investasi luhut pandjaitan tanga...   netral  \n",
       "4                     ok google negatif covid vaksin   netral  "
      ]
     },
     "execution_count": 38,
     "metadata": {},
     "output_type": "execute_result"
    }
   ],
   "source": [
    "df_disini = pd.read_csv('labeling data.csv')\n",
    "df_disini.head()"
   ]
  },
  {
   "cell_type": "code",
   "execution_count": 39,
   "id": "f6a322ea",
   "metadata": {},
   "outputs": [
    {
     "data": {
      "text/html": [
       "<div>\n",
       "<style scoped>\n",
       "    .dataframe tbody tr th:only-of-type {\n",
       "        vertical-align: middle;\n",
       "    }\n",
       "\n",
       "    .dataframe tbody tr th {\n",
       "        vertical-align: top;\n",
       "    }\n",
       "\n",
       "    .dataframe thead th {\n",
       "        text-align: right;\n",
       "    }\n",
       "</style>\n",
       "<table border=\"1\" class=\"dataframe\">\n",
       "  <thead>\n",
       "    <tr style=\"text-align: right;\">\n",
       "      <th></th>\n",
       "      <th>tweet</th>\n",
       "    </tr>\n",
       "  </thead>\n",
       "  <tbody>\n",
       "    <tr>\n",
       "      <th>0</th>\n",
       "      <td>update jadwal vaksinasi covid 19 upt puskesmas...</td>\n",
       "    </tr>\n",
       "    <tr>\n",
       "      <th>1</th>\n",
       "      <td>syarat jalan polymerase chain reaction antigen...</td>\n",
       "    </tr>\n",
       "    <tr>\n",
       "      <th>2</th>\n",
       "      <td>perintah pasti vaksin covid 19 bukti aman uji ...</td>\n",
       "    </tr>\n",
       "    <tr>\n",
       "      <th>3</th>\n",
       "      <td>menko maritim investasi luhut pandjaitan tanga...</td>\n",
       "    </tr>\n",
       "    <tr>\n",
       "      <th>4</th>\n",
       "      <td>ok google negatif covid vaksin</td>\n",
       "    </tr>\n",
       "    <tr>\n",
       "      <th>...</th>\n",
       "      <td>...</td>\n",
       "    </tr>\n",
       "    <tr>\n",
       "      <th>1037</th>\n",
       "      <td>vaksin uji aman khasiat sehat cegah tingkat pa...</td>\n",
       "    </tr>\n",
       "    <tr>\n",
       "      <th>1038</th>\n",
       "      <td>vaksin covid 19 protokol sehat ikhtiar</td>\n",
       "    </tr>\n",
       "    <tr>\n",
       "      <th>1039</th>\n",
       "      <td>waspada info berita palsu berita bohong fakta ...</td>\n",
       "    </tr>\n",
       "    <tr>\n",
       "      <th>1040</th>\n",
       "      <td>simpul narasi bawah orang vaksin mati saji buk...</td>\n",
       "    </tr>\n",
       "    <tr>\n",
       "      <th>1041</th>\n",
       "      <td>byunieel heran selamat kak orang pilih orang s...</td>\n",
       "    </tr>\n",
       "  </tbody>\n",
       "</table>\n",
       "<p>1042 rows × 1 columns</p>\n",
       "</div>"
      ],
      "text/plain": [
       "                                                  tweet\n",
       "0     update jadwal vaksinasi covid 19 upt puskesmas...\n",
       "1     syarat jalan polymerase chain reaction antigen...\n",
       "2     perintah pasti vaksin covid 19 bukti aman uji ...\n",
       "3     menko maritim investasi luhut pandjaitan tanga...\n",
       "4                        ok google negatif covid vaksin\n",
       "...                                                 ...\n",
       "1037  vaksin uji aman khasiat sehat cegah tingkat pa...\n",
       "1038             vaksin covid 19 protokol sehat ikhtiar\n",
       "1039  waspada info berita palsu berita bohong fakta ...\n",
       "1040  simpul narasi bawah orang vaksin mati saji buk...\n",
       "1041  byunieel heran selamat kak orang pilih orang s...\n",
       "\n",
       "[1042 rows x 1 columns]"
      ]
     },
     "execution_count": 39,
     "metadata": {},
     "output_type": "execute_result"
    }
   ],
   "source": [
    "df_disini[['tweet']]"
   ]
  },
  {
   "cell_type": "code",
   "execution_count": 40,
   "id": "d6a69426",
   "metadata": {},
   "outputs": [
    {
     "data": {
      "text/html": [
       "<div>\n",
       "<style scoped>\n",
       "    .dataframe tbody tr th:only-of-type {\n",
       "        vertical-align: middle;\n",
       "    }\n",
       "\n",
       "    .dataframe tbody tr th {\n",
       "        vertical-align: top;\n",
       "    }\n",
       "\n",
       "    .dataframe thead th {\n",
       "        text-align: right;\n",
       "    }\n",
       "</style>\n",
       "<table border=\"1\" class=\"dataframe\">\n",
       "  <thead>\n",
       "    <tr style=\"text-align: right;\">\n",
       "      <th></th>\n",
       "      <th>username</th>\n",
       "      <th>tanggal</th>\n",
       "      <th>tweet</th>\n",
       "      <th>sentimen</th>\n",
       "    </tr>\n",
       "  </thead>\n",
       "  <tbody>\n",
       "    <tr>\n",
       "      <th>0</th>\n",
       "      <td>pkmjangkar</td>\n",
       "      <td>3/7/2022 23:58</td>\n",
       "      <td>update jadwal vaksinasi covid 19 upt puskesmas...</td>\n",
       "      <td>positif</td>\n",
       "    </tr>\n",
       "    <tr>\n",
       "      <th>1</th>\n",
       "      <td>CNNIndonesia</td>\n",
       "      <td>3/7/2022 23:57</td>\n",
       "      <td>syarat jalan polymerase chain reaction antigen...</td>\n",
       "      <td>netral</td>\n",
       "    </tr>\n",
       "    <tr>\n",
       "      <th>2</th>\n",
       "      <td>DindaNatasha15</td>\n",
       "      <td>3/7/2022 23:56</td>\n",
       "      <td>perintah pasti vaksin covid 19 bukti aman uji ...</td>\n",
       "      <td>positif</td>\n",
       "    </tr>\n",
       "    <tr>\n",
       "      <th>3</th>\n",
       "      <td>juvejack</td>\n",
       "      <td>3/7/2022 23:49</td>\n",
       "      <td>menko maritim investasi luhut pandjaitan tanga...</td>\n",
       "      <td>netral</td>\n",
       "    </tr>\n",
       "    <tr>\n",
       "      <th>4</th>\n",
       "      <td>nengsunshine</td>\n",
       "      <td>3/7/2022 23:47</td>\n",
       "      <td>ok google negatif covid vaksin</td>\n",
       "      <td>netral</td>\n",
       "    </tr>\n",
       "  </tbody>\n",
       "</table>\n",
       "</div>"
      ],
      "text/plain": [
       "         username         tanggal  \\\n",
       "0      pkmjangkar  3/7/2022 23:58   \n",
       "1    CNNIndonesia  3/7/2022 23:57   \n",
       "2  DindaNatasha15  3/7/2022 23:56   \n",
       "3        juvejack  3/7/2022 23:49   \n",
       "4    nengsunshine  3/7/2022 23:47   \n",
       "\n",
       "                                               tweet sentimen  \n",
       "0  update jadwal vaksinasi covid 19 upt puskesmas...  positif  \n",
       "1  syarat jalan polymerase chain reaction antigen...   netral  \n",
       "2  perintah pasti vaksin covid 19 bukti aman uji ...  positif  \n",
       "3  menko maritim investasi luhut pandjaitan tanga...   netral  \n",
       "4                     ok google negatif covid vaksin   netral  "
      ]
     },
     "execution_count": 40,
     "metadata": {},
     "output_type": "execute_result"
    }
   ],
   "source": [
    "df_disini =pd.read_csv('labeling data.csv', encoding ='latin1')\n",
    "df_disini.head()"
   ]
  },
  {
   "cell_type": "code",
   "execution_count": 41,
   "id": "24b3edf0",
   "metadata": {},
   "outputs": [
    {
     "name": "stdout",
     "output_type": "stream",
     "text": [
      "3313\n"
     ]
    }
   ],
   "source": [
    "cv = CountVectorizer()\n",
    "term_fit = cv.fit(df_disini['tweet'])\n",
    "\n",
    "print (len(term_fit.vocabulary_))"
   ]
  },
  {
   "cell_type": "code",
   "execution_count": 42,
   "id": "7a63ee1a",
   "metadata": {},
   "outputs": [
    {
     "name": "stdout",
     "output_type": "stream",
     "text": [
      "{'update': 3165, 'jadwal': 1282, 'vaksinasi': 3188, 'covid': 695, '19': 75, 'upt': 3167, 'puskesmas': 2413, 'jangkar': 1304, 'selasa': 2667, '08': 15, 'maret': 1858, '2022': 92, 'vaksin': 3183, 'aman': 280, 'halal': 1081, 'masyarakat': 1874, 'sehat': 2649, 'indonesia': 1210, 'kuat': 1647, 'situbondo': 2791, 'situbon': 2790, 'syarat': 2900, 'jalan': 1295, 'polymerase': 2334, 'chain': 663, 'reaction': 2463, 'antigen': 317, 'lengkap': 1739, 'perintah': 2274, 'pasti': 2229, 'bukti': 607, 'uji': 3131, 'patuh': 2235, 'disiplin': 830, 'protokol': 2381, 'menko': 1910, 'maritim': 1860, 'investasi': 1249, 'luhut': 1797, 'pandjaitan': 2196, 'tangan': 2929, 'pandemi': 2194, 'baik': 400, 'sesuai': 2733, 'bijak': 530, 'salah': 2568, 'satu': 2616, 'kait': 1397, 'atur': 357, 'kendara': 1522, 'top': 3063, 'news': 2045, 'ok': 2123, 'google': 1042, 'negatif': 2036, 'heryanto': 1122, 'solusi': 2810, 'damai': 732, 'terap': 2987, 'ekonomi': 902, 'normal': 2085, 'sembari': 2680, 'tunggu': 3102, 'vaksinbooster': 3192, 'kalang': 1403, 'rentan': 2485, 'prioritas': 2365, 'airlangga': 241, 'nahdlatul': 2015, 'ulama': 3135, 'berani': 497, 'saleh': 2571, 'partaonan': 2219, 'daulay': 755, 'apresiasi': 331, 'wajib': 3225, 'laku': 1684, 'domestik': 849, 'tes': 3004, 'jadi': 1281, 'ikut': 1184, 'pasca': 2223, 'imunisasi': 1196, 'booster': 573, 'astrazeneca': 352, 'parah': 2211, 'asa': 344, 'kena': 1516, 'tidak': 3023, 'tahu': 2912, 'habis': 1070, 'gibran': 1028, 'positif': 2341, 'beri': 504, 'sinovac': 2779, 'kanak': 1425, '11': 32, 'program': 2374, 'bangsa': 422, 'anak': 293, 'lindung': 1761, 'diri': 826, 'semua': 2693, 'pasu': 2230, 'tugas': 3088, 'khas': 1548, 'citf': 677, 'terus': 3002, 'ikhtiar': 1183, 'ambil': 284, 'dosis': 858, 'usaha': 3171, 'henti': 1118, 'tular': 3092, 'samping': 2583, 'standar': 2836, 'operasi': 2138, 'prosedur': 2378, 'fakta': 934, 'halo': 1085, 'sobat': 2803, 'polri': 2332, 'jenis': 1334, 'kembang': 1507, 'tingkat': 3043, 'imun': 1194, 'tubuh': 3086, 'virus': 3214, 'sars': 2608, 'cov': 694, 'sebab': 2635, 'sakit': 2565, 'sentra': 2703, 'vaksinasibooster': 3189, 'gedung': 1005, 'rektorat': 2476, 'universitas': 3159, 'bsi': 592, 'catat': 643, 'informasi': 1219, 'lokasi': 1780, 'kramat': 1630, '98': 198, 'kecuali': 1479, 'sabtu': 2553, 'minggu': 1939, '08001200': 16, 'wib': 3251, 'masuk': 1872, 'tenggorok': 2980, 'lampau': 1691, 'nya': 2100, 'dada': 720, 'batuk': 455, 'dahak': 725, 'kahak': 1394, 'la': 1668, 'orang': 2145, 'kenal': 1517, 'gejala': 1009, 'ringan': 2511, 'hidup': 1126, 'banyak': 435, 'parpol': 2217, 'ormas': 2153, 'group': 1051, 'konglomerat': 1600, 'tetiba': 3009, 'jatah': 1315, 'distribusi': 832, 'barang': 441, 'langka': 1699, 'selalu': 2664, 'cari': 642, 'celah': 649, 'manfaat': 1850, 'momentum': 1965, 'bencana': 487, 'merdeka': 1917, 'endemi': 914, 'dokter': 846, 'dosa': 856, 'lelah': 1727, 'kakak': 1400, 'konfirmasi': 1599, 'suntik': 2877, 'hamil': 1090, 'boleh': 571, 'penuh': 2260, 'ini': 1227, 'babinsa': 379, 'desa': 781, 'temuwangi': 2977, 'serda': 2718, 'agus': 234, 'tri': 3076, 'gunanta': 1065, 'koramil': 1619, 'dan': 735, 'kodim': 1580, '0723': 12, 'klaten': 1569, 'bhabinkamtibmas': 519, 'aiptu': 239, 'sholeh': 2744, 'laksana': 1683, 'damping': 734, 'gugus': 1060, 'camat': 633, 'korem': 1624, '074': 14, 'wrt': 3269, 'kodam': 1579, 'iv': 1271, 'diponegoro': 824, 'personil': 2286, 'satbrimob': 2612, 'polda': 2325, 'gorontalo': 1044, 'ketat': 1541, 'gudang': 1057, 'simpan': 2769, 'flash': 957, 'binsar': 541, 'menteri': 1912, 'koordinator': 1615, 'bidang': 529, 'hapus': 1097, 'darat': 743, 'laut': 1717, 'udara': 3128, 'rute': 2545, 'terima': 2991, 'corona': 690, '0727': 13, 'karanganyar': 1443, 'seni': 2698, 'tanggal': 2932, '722022': 175, '0900': 20, 'imam': 1188, 'maulidin': 1881, 'karang': 1442, 'anggota': 300, '06': 7, 'pandan': 2193, 'melaks': 1895, 'boster': 577, 'prizer': 2366, 'balai': 405, 'kec': 1476, 'mutasi': 2008, 'varian': 3203, 'jahanam': 1286, 'alat': 267, 'kelamin': 1489, 'wanita': 3233, 'stop': 2841, 'buat': 599, 'takut': 2918, 'paksa': 2181, 'rakyat': 2431, 'kelinci': 1497, 'coba': 681, 'segera': 2648, 'sih': 2758, 'kapolsek': 1439, 'bukit': 606, 'batu': 453, 'kali': 1406, 'warga': 3236, 'sunti': 2876, '12': 36, 'kadiv': 1389, 'kemenkumham': 1513, 'sulsel': 2864, 'edi': 887, 'kurniadi': 1664, 'rangka': 2445, 'cegah': 646, '24': 109, 'lapas': 1711, 'rutan': 2544, 'lpk': 1790, 'capai': 638, '9838': 199, 'persen': 2283, '10997': 29, 'bina': 535, 'ri': 2499, 'kumham': 1655, 'surat': 2885, 'untuk': 3161, 'kebal': 1473, 'bilang': 532, 'flu': 960, 'biasa': 525, 'itu': 1270, 'kejar': 1485, 'hasil': 1110, '1501': 63, 'simak': 2768, 'rezim': 2496, 'cerita': 660, 'edukasi': 890, 'covid19': 696, 'yg': 3289, 'narasi': 2027, 'kaji': 1398, 'klinis': 1572, 'spertinya': 2824, 'negara': 2035, 'mf': 1930, 'fase': 940, 'bahagia': 392, 'serta': 2724, 'didik': 804, 'sdn': 2634, '0102': 1, 'sibuhuan': 2752, 'antusias': 322, 'ajar': 246, 'tatap': 2951, 'muka': 1992, 'lurah': 1805, 'gerai': 1022, 'polres': 2330, 'polsek': 2333, 'cek': 647, 'medsos': 1890, 'keluh': 1502, 'konsekuensi': 1602, 'putus': 2418, 'bagus': 391, 'produsen': 2371, 'wkwkwk': 3261, 'tertawa': 2998, 'guling': 1063, 'ilmuwan': 1187, 'kudu': 1651, 'gaul': 998, 'lab': 1670, 'mata': 1875, 'lihat': 1757, 'kemenkes': 1512, '10769': 28, 'jam': 1298, 'total': 3064, '24259048': 113, 'wam': 3232, 'pinggir': 2308, 'setia': 2734, 'budi': 601, 'fokus': 962, 'sampai': 2582, 'pemberitahuan': 2254, 'nasehat': 2028, 'kesihatan': 1539, 'malaysia': 1837, 'langkah': 1700, 'omicron': 2133, 'penting': 2259, 'sosialisasi': 2819, 'rantai': 2448, 'keluarga': 1501, 'lari': 1715, 'maya': 1884, 'iow': 1250, 'komunikasi': 1595, 'kita': 1561, 'incase': 1204, 'akan': 249, 'siksa': 2763, 'fighter': 949, 'jamin': 1301, 'rampai': 2442, 'maju': 1821, 'pangsapuri': 2198, 'adelia': 217, 'residensi': 2490, 'dahlia': 726, 'apartment': 326, 'lapor': 1713, 'isolasi': 1256, 'nilai': 2074, 'kendiri': 1523, 'sumbang': 2867, 'darah': 742, 'aku': 261, 'sangat': 2592, 'pernah': 2282, 'tolol': 3059, 'ingat': 1223, 'payah': 2239, 'susah': 2891, 'kelompok': 1499, 'bentuk': 493, 'pilih': 2305, 'hartarto': 1105, 'main': 1818, 'peran': 2263, 'strategis': 2844, 'status': 2838, 'guna': 1064, 'tolong': 3060, 'kata': 1459, 'harus': 1106, 'yang': 3284, 'sila': 2764, 'kembali': 1506, '100': 22, 'kalaupun': 1405, 'suruh': 2888, 'obat': 2111, 'arti': 340, 'silah': 2765, 'mandat': 1847, 'integrasi': 1241, 'aplikasi': 329, 'kontrol': 1614, 'digital': 806, 'fantasi': 938, 'bebas': 469, 'tuju': 3090, 'cipta': 673, 'normalitas': 2086, 'gantung': 989, 'efek': 891, 'di': 795, 'tema': 2969, 'keluar': 1500, 'iring': 1253, 'kendal': 1520, 'akhir': 251, 'jika': 1340, 'yoo': 3292, 'jae': 1283, 'seok': 2705, 'song': 2813, 'ji': 1339, 'hyo': 1164, 'atas': 355, 'yoojaeseok': 3294, 'songjihyo': 2814, 'fungsi': 975, 'adik': 218, 'mesti': 1926, 'laa': 1669, 'demam': 769, 'badan': 383, 'cipeng': 672, 'sintas': 2781, 'milik': 1936, 'sel': 2661, 'adil': 219, 'test': 3005, 'ganti': 988, 'titer': 3049, 'antibodi': 316, 'sains': 2561, 'mas': 1862, 'syukur': 2904, 'sebenernya': 2638, 'immunnya': 1192, 'betulbolehkah': 516, 'soal': 2802, 'mudah': 1987, 'mati': 1876, '471': 149, '30000': 133, 'kesan': 1537, 'komplikasi': 1592, 'peluang': 2252, 'cuti': 718, 'sekolah': 2658, 'bawa': 457, 'ngobrol': 2063, 'endemic': 915, 'era': 923, 'kadinkes': 1388, 'kota': 1627, 'ketemu': 1542, 'acara': 209, 'lemah': 1731, 'thats': 3012, 'oke': 2125, 'kaya': 1467, 'ya': 3276, 'depan': 776, 'variantnya': 3205, 'pesawat': 2288, 'kereta': 1531, 'api': 328, '440': 146, 'juta': 1375, 'sedia': 2643, 'sebut': 2640, 'tonton': 3062, 'motogp': 1978, 'mandalika': 1846, 'rata': 2457, 'vaksinkedua': 3196, 'ntb': 2091, '70': 171, 'kebut': 1475, 'usia': 3174, 'batujala': 454, 'turut': 3107, 'awal': 361, 'koko28': 1581, 'alas': 266, 'administrasi': 221, 'mari': 1859, 'alami': 265, 'zaman': 3307, 'sandiwara': 2590, 'selamat': 2665, 'toba': 3055, 'kasat': 1455, 'lantas': 1707, 'akp': 254, 'hw': 1163, 'siahaan': 2748, 'sh': 2737, 'pimpin': 2307, 'personel': 2285, 'sat': 2611, 'giat': 1027, 'terang': 2986, 'ajak': 244, 'pakai': 2178, 'masker': 1870, 'ayo': 370, '144': 52, 'calon': 632, 'jemaah': 1331, 'haji': 1079, 'daftar': 723, '130': 43, 'tiga': 3028, 'anggap': 299, 'sedang': 2641, 'ribet': 2501, 'urus': 3170, 'transportasi': 3069, 'umum': 3147, 'isu': 1266, 'ke': 1470, 'tiap': 3019, 'tayangin': 2956, 'derita': 779, 'baru': 446, 'memang': 1897, 'suram': 2884, 'kisah': 1560, 'tragis': 3066, 'tangmo': 2938, 'perang': 2265, 'peras': 2266, 'malam': 1833, 'ajal': 245, 'apa': 323, 'lebih': 1723, 'mangsa': 1851, 'banjir': 426, 'erti': 926, 'omong': 2135, 'dari': 744, 'jaman': 1299, 'nongkrong': 2083, 'hahahaha': 1075, 'konklusi': 1601, 'aju': 247, 'ivermectin': 1272, 'klaim': 1568, 'lawan': 1719, 'before': 473, 'tambah': 2922, 'pfizer': 2292, 'sahabat': 2558, 'info': 1217, 'taishan': 2914, 'rapid': 2451, 'jakarta': 1291, 'drive': 866, 'thru': 3017, 'tangerang': 2930, 'serpong': 2723, 'barat': 443, 'soekarno': 2806, 'hatta': 1114, 'dasamuka': 748, 'kalong': 1411, 'berita': 505, 'palsu': 2186, 'sebar': 2636, 'paru': 2220, 'drop': 868, 'tangga': 2931, 'megah': 1891, 'seru': 2729, 'sama': 2576, 'tapi': 2944, 'okay': 2124, 'badminton': 384, 'hubung': 1153, 'dia': 796, 'buruk': 616, 'penasaran': 2257, 'instagram': 1237, 'moderna': 1958, 'rumah': 2538, 'klinik': 1571, 'biar': 524, 'serang': 2715, 'wits': 3258, 'ban': 410, 'ketik': 1543, 'lain2': 1680, 'darimana': 745, 'istilah': 1262, 'kits': 1563, '2017': 87, 'uu6': 3180, '2018': 88, 'psl': 2385, '65': 165, 'frasa': 967, 'sertifikat': 2727, 'int': 1238, 'sertiffikat': 2726, 'mana': 1844, 'kualitas': 1643, 'lpdp': 1789, 'pk': 2314, '182': 72, 'zora': 3312, 'gauri': 999, 'negeri': 2037, 'tangguh': 2933, 'tumbuh': 3095, 'sdm': 2633, 'unggul': 3155, 'abdi': 207, 'pulih': 2398, '14': 48, 'paspor': 2226, 'perancis': 2264, 'cabut': 625, 'logika': 1775, 'otomatis': 2156, 'batal': 449, 'duduk': 874, 'percaya': 2267, 'macron': 1810, 'turun': 3106, 'garda': 993, 'davos19': 757, 'trudeau': 3082, 'mundur': 1998, 'contoh': 689, 'gue': 1058, 'harga': 1100, 'china': 666, 'russia': 2542, 'obral': 2113, 'besar': 514, 'mereka': 1921, 'rencana': 2483, 'jual': 1358, 'iphone': 1251, 'sudah': 2855, 'beli': 482, 'mahal': 1815, 'apps': 330, 'pa': 2165, 'permisi': 2280, 'bawah': 458, 'rekan': 2474, 'kerja': 1533, 'kemarin': 1504, 'eh': 896, 'bingung': 538, 'sikap': 2761, 'gelombang': 1012, 'susul': 2893, 'variant': 3204, 'pergi': 2269, 'swab': 2894, 'bayi': 461, 'bulan': 609, 'tara': 2946, 'akses': 258, 'forum': 965, 'civil': 679, '20': 86, 'hilang': 1129, 'derma': 780, 'nyawa': 2106, 'waspada': 3239, 'provokasi': 2384, 'tolak': 3058, 'simpul': 2771, 'lah': 1676, 'jaga': 1284, 'mending': 1904, 'pada': 2168, 'buang': 598, 'uang': 3120, 'ada': 211, 'efektif': 892, 'terinveksi': 2992, 'id': 1169, 'andal': 296, 'media': 1888, 'sosial': 2818, 'sumber': 2869, 'puslatpurmar4': 2414, 'purboyo': 2405, 'dukung': 877, 'bantur': 434, 'kredibel': 1632, 'twitter': 3119, 'facebook': 933, 'kurang': 1663, 'perilaku': 2272, 'teori': 2983, 'konspirasi': 1605, 'yuk': 3301, 'hadap': 1072, 'malu': 1841, 'umumpls': 3148, 'jelang': 1328, 'ramadhan': 2435, 'bodoh': 565, 'amatin': 283, 'kominfo': 1586, '2661': 123, 'konten': 1610, 'temu': 2976, 'putar': 2415, 'jumat': 1367, '432022': 144, '470': 148, 'raja': 2426, 'teliti': 2968, 'kaedah': 1390, 'mulut': 1995, 'sembur': 2684, 'hidung': 1125, 'terusi': 3003, 'pelan': 2249, 'bangun': 424, 'ppvn': 2354, 'video': 3210, 'pengaruh': 2258, 'as': 343, 'kirim': 1559, '35': 136, '323': 135, 'papar': 2206, 'nama': 2019, 'saudagar': 2618, 'butuh': 620, 'kunjung': 1661, 'website': 3247, 'situs': 2792, 'resmi': 2492, 'nasional': 2031, 'girang': 1034, 'dagang': 724, 'cendol': 652, 'tani': 2939, 'ikan': 1181, 'motor': 1979, 'kabar': 1379, 'bohong': 567, 'edar': 886, '2659': 122, 'hingga': 1133, 'rabu': 2421, '232022': 106, '469': 147, 'diswab': 833, 'pilek': 2304, 'pusing': 2411, 'telah': 2966, 'gel': 1010, 'tim': 3032, 'offsite': 2119, 'kabanyakn': 1378, 'kuarantin': 1644, 'harini': 1102, 'projek': 2376, 'karena': 1446, 'staf': 2833, 'aaaa': 202, 'sayang': 2625, 'tahap': 2911, 'tinanggea': 3038, 'kab': 1377, 'konawe': 1596, 'selatan': 2668, 'vaksinator': 3191, 'teratai': 2988, 'brimob': 587, 'sultra': 2865, 'rf': 2497, 'terbang': 2989, 'kemenhub': 1511, 'nomor': 2081, '96': 195, '2021': 91, 'tumpang': 3096, 'periksa': 2271, 'bau': 456, 'tidur': 3026, 'sesak': 2731, 'lagi': 1675, 'bukan': 604, 'keri': 1532, 'netizen': 2043, 'kejam': 1483, 'anti': 315, 'sabar': 2551, 'mulai': 1994, 'detik': 788, 'perlu': 2278, 'peduli': 2242, 'sarah': 2602, 'idcorner': 1171, 'mertua': 1925, 'tempo': 2974, 'pikir': 2300, 'gratis': 1050, 'minyak': 1942, 'goreng': 1043, 'murah': 2001, 'dahulu': 728, 'maki': 1826, 'lembut': 1735, 'sulit': 2863, 'akal': 248, 'amal': 279, 'norma': 2084, 'sarawak': 2605, 'jarak': 1310, 'cuci': 711, 'air': 240, 'sabun': 2554, 'hand': 1094, 'sanitizer': 2597, 'jabat': 1280, 'rasmi': 2456, 'anms': 311, 'sore': 2816, 'kapal': 1435, 'angkut': 305, 'hanya': 1096, 'minimal': 1940, 'data': 750, 'bank': 427, 'serah': 2711, 'bantu': 433, '60000': 161, 'wilayah': 3252, 'diy': 837, 'nyata': 2105, 'timbal': 3033, 'teknologi': 2964, 'inovasi': 1232, 'datuk': 753, 'ahmad': 237, 'amzad': 291, 'hashimartikel': 1109, '7hb': 182, 'mac': 1809, 'rujuk': 2536, 'ppv': 2353, 'halaman': 1082, 'sawang': 2622, 'abai': 206, 'intai': 1239, 'sekitar': 2656, 'himbauan': 1131, 'mencenggah': 1903, 'bagi': 389, 'ii': 1178, 'iii': 1180, 'presisi': 2362, 'ngada': 2046, 'longgar': 1783, 'ppenghapus': 2350, 'pro': 2368, 'fucks': 971, 'telaah': 2965, 'komentar': 1585, 'dekat': 766, 'umroh': 3146, 'ibadah': 1166, 'layan': 1720, 'lembur': 1733, 'lamar': 1689, 'cv': 719, 'dokumen': 847, 'email': 906, 'subjek': 2851, 'hse': 1149, 'officer': 2117, 'nkfvindanindicoid': 2078, 'zainulexelmandiricom': 3306, 'paling': 2185, 'lambat': 1690, '080322': 17, 'langsung': 1702, 'cepat': 656, 'dapat': 740, 'viral': 3212, 'bocah': 564, 'laki': 1682, 'tahan': 2910, 'jarum': 1314, 'tembus': 2971, 'kulit': 1653, 'sungguh': 2875, 'celaka': 650, 'bedebah': 472, 'cis': 675, 'hmmm': 1138, 'gt70apa': 1054, 'ahli': 236, 'bicara': 527, 'juru': 1373, 'hari': 1101, 'ngomong': 2064, 'misterius': 1948, 'amerika': 286, 'serikat': 2720, 'mitra': 1950, 'corvax': 693, 'unicef': 3157, 'jiwa': 1344, 'target': 2947, 'perit': 2276, 'posttonsillectomy': 2344, 'kacau': 1385, 'admin': 220, 'luka': 1798, 'lumayan': 1801, 'genose': 1019, 'prof': 2372, 'imunologi': 1199, 'kanada': 1424, 'byram': 623, 'bridle': 585, 'protein': 2379, 'lonjak': 1784, 'rusa': 2540, 'organ': 2148, '06032021': 8, '17': 69, 'nasib': 2029, 'alam': 263, '10x': 31, 'iya': 1274, 'beku': 478, 'puja': 2392, '163': 66, 'ribu': 2502, 'senin': 2699, '73': 176, 'foto': 966, 'potong': 2346, 'tweetnya': 3116, 'didelete': 803, 'org2nya': 2147, 'guk': 1061, 'tali': 2919, 'ikat': 1182, 'kepala': 1526, 'ribut': 2503, 'selesai': 2670, 'golong': 1040, 'rendah': 2484, 'enak': 913, 'kasi': 1456, 'daerah': 722, 'ingin': 1225, 'sangka': 2594, 'kiri': 1558, 'kanan': 1427, 'moga': 1960, 'sentiasa': 2701, '14802': 59, 'oleh': 2130, '1200': 37, 'dasar': 749, '163040': 67, 'efektivitas': 895, 'paham': 2175, 'btw': 597, 'kutip': 1666, 'artikel': 341, 'kalimat': 1410, 'umpat': 3144, 'dengan': 774, 'nth': 2092, 'kerumun': 1535, 'bangkai': 418, 'ngelunjak': 2057, 'si': 2746, 'manusia': 1855, 'stress': 2846, 'teman': 2970, 'sibuk': 2753, 'politik': 2329, 'balak': 406, 'masing2': 1868, 'duniawi': 883, 'angkat': 304, 'sedau': 2642, 'allahu': 274, 'ristianto': 2514, 'kompak': 1590, 'demo': 772, 'sembah': 2678, 'rutinitas': 2546, 'generasi': 1016, 'kang': 1430, 'tutup': 3109, 'infeksi': 1215, 'bagaimana': 388, 'gelar': 1011, 'terminal': 2995, 'petikemas': 2291, 'bitung': 553, 'siang': 2749, 'gilir': 1032, 'vaksinsaya': 3201, 'dialog': 798, 'konferensi': 1598, 'wakil': 3226, 'kabkota': 1381, 'hai': 1076, 'yuktersedia': 3303, 'yayasan': 3286, 'wings': 3253, 'tetap': 3008, 'cinta': 671, 'kolaborasi': 1582, 'global': 1036, 'akselerator': 257, 'tindak': 3039, 'produksi': 2370, 'awat': 367, 'gaya': 1002, 'makan': 1824, 'aneh': 297, 'dikemaskini': 811, 'gembira': 1013, 'hadir': 1073, '18': 70, '28': 128, 'april': 333, '1300': 44, 'kasablanka': 1454, 'aula': 359, 'lantai': 1705, 'rang': 2444, 'jaring': 1312, 'puas': 2390, 'game': 982, 'jn': 1348, 'jarsos': 1313, 'bahaya': 398, 'konstruksi': 1606, 'bolak': 569, 'saudara': 2619, 'label': 1671, 'mikirnya': 1933, 'masak': 1863, 'ngebohongi': 2055, 'kemas': 1505, 'bkn': 554, 'poor': 2336, 'sheeps': 2741, 'sungai': 2874, 'kunjang': 1660, 'gencar': 1014, 'khusus': 1552, 'lansia': 1704, 'kerah': 1527, 'jemput': 1332, 'pasien': 2224, 'antar': 314, 'rsud': 2528, 'moewardi': 1959, 'sempat': 2688, 'batadi': 448, 'jendela': 1333, 'kaca': 1384, 'khawatir': 1551, 'ppln': 2352, 'karantina': 1444, 'ofc': 2116, 'bentar': 492, 'pst': 2386, 'meninggoy': 1907, 'bener': 489, 'provinsi': 2383, 'kalimantan': 1409, 'cakup': 631, 'manual': 1854, 'kapuas': 1440, 'hulu': 1157, 'persentase': 2284, '7343': 178, 'vaksinasipertama': 3190, '163829': 68, '9085': 191, '100997': 25, '5601': 156, 'lewat': 1748, 'rekomendasi': 2475, 'mui': 1991, 'aceh': 210, 'vaksi': 3182, 'ragu': 2424, 'pantau': 2203, 'per': 2261, 'rsup': 2529, 'wujud': 3271, 'mau': 1879, 'hindar': 1132, 'sedikit': 2645, 'sejahtera': 2651, 'umat': 3142, 'diam': 799, 'vaksin2': 3184, 'senang': 2695, 'in': 1201, 'check': 665, 'rtk': 2531, 'sambung': 2579, 'agenda': 231, 'yahudi': 3281, 'bla': 555, 'sanur': 2599, 'ubud': 3125, 'kawan': 1464, 'zona': 3311, 'hijaunah': 1128, 'bal': 404, 'naek': 2013, 'jkt': 1346, 'pulang': 2395, 'bini': 539, 'sang': 2591, 'baca': 381, 'tweet': 3115, 'saintis': 2562, 'virologi': 3213, 'biologi': 544, 'molekular': 1963, 'sendri': 2696, 'hujah': 1155, 'konteks': 1609, 'yakin': 3283, 'bebal': 468, 'walafiat': 3227, 'keras': 1528, 'utama': 3177, 'icu': 1168, 'kini': 1555, 'gt90': 1055, 'jangkit': 1305, 'primer': 2364, 'banding': 414, 'menang': 1902, 'undur': 3153, 'marves': 1861, 'tentu': 2982, 'jalur': 1297, 'nyeri': 2109, 'otot': 2159, 'gegara': 1007, 'wabup': 3221, 'samosir': 2581, 'detasemen': 786, 'gegana': 1006, 'riau': 2500, 'humanis': 1158, 'center': 654, 'rs': 2524, 'bhayangkara': 520, 'nyanyi': 2104, 'hana': 1091, 'horka': 1142, 'republik': 2488, 'ceko': 648, 'tinggal': 3041, 'sengaja': 2697, 'posting': 2343, 'judul': 1361, 'yaa': 3277, 'bumn': 612, 'erick': 924, 'thohir': 3015, 'world': 3266, 'health': 1116, 'organization': 2150, 'who': 3250, 'sinyal': 2783, 'hub': 1152, 'pusat': 2409, 'asia': 347, 'tenggara': 2979, 'daulat': 754, 'kamis': 1418, '309': 134, '2454': 114, 'ag4ever': 227, 'sijil': 2760, 'datang': 751, 'asing': 350, 'izin': 1276, 'jagat': 1285, 'baju': 401, 'seragam': 2710, 'asal': 345, 'suku': 2862, 'badui': 385, 'lebak': 1722, 'banten': 431, 'serius': 2721, 'tanya': 2942, 'februari': 947, 'dishare': 828, 'tl': 3051, 'idiot': 1172, 'pound': 2347, 'uk': 3132, 'lupa': 1803, 'alhamdulillah': 271, 'bumi': 611, 'pertiwi': 2287, 'bos': 576, 'super': 2879, 'nyebelin': 2108, 'banget': 416, 'pisah': 2311, 'jatim': 1318, 'larang': 1714, 'huft': 1154, 'muak': 1984, 'pintar': 2309, 'ampuh': 289, 'cakap': 629, 'definisi': 763, 'gagal': 980, 'individu': 1207, 'cidera': 669, 'nirlogika': 2076, 'kuasa': 1646, 'nikmat': 2073, 'mahasiswa': 1816, 'mimpi': 1937, 'dprnya': 862, 'asik': 349, 'kian': 1553, 'tinggi': 3042, 'ditakutin': 834, 'intimidasi': 1247, 'suami': 2849, 'puji': 2393, 'tuhan': 3089, 'perna': 2281, 'heran': 1120, 'tip': 3044, 'kemendag': 1510, 'taurakyat': 2952, 'rela': 2477, 'antre': 320, 'partai': 2218, 'bangkit': 421, 'sembuh': 2682, 'kadaluarsa': 1386, 'adad': 214, 'kompas': 1591, 'satgas': 2613, 'pamtas': 2189, 'png': 2323, 'yonif': 3291, '711': 174, 'raksatama': 2429, 'jayapura': 1326, 'rks': 2518, 'tempat': 2973, 'poliklinik': 2326, 'keerom': 1482, 'kabupaten': 1383, 'sinergitas': 2775, 'kemen': 1508, 'kunci': 1658, 'mrna': 1981, 'coming': 686, 'soon': 2815, 'coronavirus': 692, 'rmid': 2521, 'aktif': 259, '800': 184, 'bor': 575, '29': 131, 'panjaitan': 2200, 'misc': 1945, 'akibat': 253, 'kanak2': 1426, 'mauttujuh': 1882, 'kes': 1536, 'sah': 2557, 'dunia': 882, 'miscdapatkan': 1946, 'umur': 3149, '511': 150, 'tiket': 3029, 'sedih': 2644, 'ramai': 2437, 'untung': 3162, 'allah': 273, 'may': 1883, 'pasuk': 2231, 'tribun': 3078, 'bisnis': 552, '208265720': 98, 'sasar': 2609, 'kerepot': 1530, 'travel': 3071, 'philippines': 2296, 'nerima': 2041, 'buku': 608, 'kuning': 1659, 'dipindahin': 823, 'kesini': 1540, 'didapet': 802, 'meningitis': 1908, 'or': 2143, 'asyik': 354, 'nanya': 2025, 'nunggu': 2095, 'bpom': 580, 'pom': 2335, 'darurat': 747, 'regimen': 2471, 'homolog': 1141, 'sinopharm': 2778, 'barelang': 444, '2500': 117, '25': 116, 'panjang': 2201, 'ter': 2984, 'massal': 1871, 'sanggau': 2593, 'alokasi': 275, 'nanga': 2021, 'tangkap': 2937, 'tikus': 3030, 'bakar': 402, 'lowong': 1788, 'pt': 2387, 'tah': 2909, 'sung': 2873, 'hungposisi': 1161, 'customs': 717, 'staffkualifikasi': 2834, 's1': 2549, 'jurus': 1374, 'komputer': 1593, 'bh': 518, 'jaya': 1325, '2024': 95, 'japen': 1309, 'selangor': 2666, 'upp': 3166, 'bantaeng': 429, 'sambang': 2578, 'papan': 2205, 'kamu': 1422, 'sapu': 2600, 'bersih': 510, 'pungut': 2403, 'liar': 1751, 'logo': 1776, 'saber': 2552, 'pungli': 2402, 'pemda': 2256, 'jubir': 1360, 'siti': 2788, 'nadia': 2012, 'jurnal': 1372, 'medis': 1889, 'bugar': 602, 'sertif': 2725, 'tongkat': 3061, 'cahaya': 627, 'faktor': 935, 'marang': 1857, '1478': 57, 'belum': 483, 'oh': 2120, 'beda': 471, 'valid': 3202, 'donasi': 851, 'asuransi': 353, 'batas': 451, 'wisatawan': 3256, 'sumaid': 2866, 'jogorogo': 1351, 'ngawi': 2053, 'tilang': 3031, 'razia': 2462, 'kartu': 1449, 'masjid': 1869, 'wisata': 3255, 'mengcover': 1905, 'biaya': 526, 'arab': 334, 'saudi': 2620, 'dar': 741, 'malas': 1836, 'rt': 2530, 'mohon': 1961, 'tunjuk': 3103, 'pegal': 2243, 'berangkat': 495, 'umrah': 3145, '22': 102, 'lho': 1749, 'jabar': 1279, 'kapasitas': 1437, 'padat': 2171, 'komitmen': 1587, 'ka': 1376, 'zikir': 3310, 'angka': 301, 'makassar': 1825, 'danny': 738, '95': 194, 'lalu': 1686, 'jaki': 1292, 'mister': 1947, 'aladin': 262, 'walk': 3231, 'pkl': 2315, 'mnc': 1952, 'merk': 1924, 'upaya': 3164, 'disease': 827, 'sigap': 2756, 'ayoo': 373, 'akselerasi': 256, 'rumkit': 2539, 'kantor': 1432, 'dinas': 816, 'esdm': 927, 'palangka': 2184, 'raya': 2461, 'door': 852, 'kawasan': 1466, 'aren': 338, 'bekas': 476, 'timur': 3037, 'kendali': 1521, 'cakep': 630, 'tanggulang': 2934, 'kandung': 1429, 'ethyl': 929, 'mercury': 1915, 'dania': 737, 'sauya': 2621, 'semut': 2694, 'jalin': 1296, 'jab': 1278, 'pabrik': 2167, 'opung': 2142, 'kalah': 1402, 'indo': 1208, 'komorbid': 1589, 'non': 2082, 'mandatory': 1848, 'halau': 1083, 'ba1': 375, 'lahir': 1678, 'baby': 380, 'ba2': 376, 'stopwajibvaksinanak': 2843, 'padang': 2170, 'pariaman': 2213, 'patriot': 2234, 'adaptasi': 216, 'dinkes': 820, 'malang': 1835, 'merek': 1920, 'timesindonesia': 3036, 'rugi': 2535, 'kopi': 1617, 'paracetamol': 2210, 'viagra': 3209, 'sachet': 2555, 'ada2': 212, 'stempel': 2839, 'iniemang': 1230, 'setor': 2735, 'kahga': 1395, 'produk': 2369, 'minum': 1941, 'konsumen': 1607, 'kapanewon': 1436, 'wates': 3241, 'sambut': 2580, 'kartini': 1448, 'banyuroto': 437, 'nanggulan': 2022, 'kulon': 1654, 'progo': 2373, '07032022': 11, 'bsidemi': 593, 'sarana': 2604, 'informatika': 1221, 'ubsi': 3124, 'dosen': 857, 'lepuh': 1743, 'bikin': 531, 'oma': 2132, 'lem': 1730, 'cuplik': 716, 'saksi': 2567, 'tayang': 2955, 'tv': 3112, 'spesial': 2825, 'youtube': 3300, 'tahun': 2913, 'ngurusin': 2068, 'bill': 533, 'gates': 997, 'bisa': 550, 'bekal': 475, 'imunitas': 1197, 'resiko': 2491, 'pegawai': 2244, 'kanwil': 1433, 'sumut': 2872, 'kelas': 1492, 'iib': 1179, 'lanjut': 1703, '1000': 23, '1330': 45, 'kai': 1396, '21307': 101, '24248279': 112, 'sistem': 2786, 'nali': 2018, 'dki': 840, 'sholat': 2743, 'khatib': 1550, 'ngaku': 2048, 'kritik': 1638, 'embel2': 909, 'dalil': 731, 'lurus': 1806, 'rapat': 2449, 'shaf': 2738, 'kampanye': 1419, 'immunitysayangi': 1191, 'tertib': 3001, 'lintas': 1766, 'ops': 2139, 'lodaya': 1774, 'tekan': 2963, 'benar': 486, 'belah': 480, 'bandar': 412, 'suhaila': 2857, 'osman': 2155, 'landai': 1698, 'radius': 2423, 'anda': 295, 'wkwk': 3260, 'duga': 875, 'jelas': 1329, 'mitos': 1949, 'humaspoldasulut': 1160, 'akhbar': 250, 'kawal': 1463, 'dadah': 721, '370': 137, 'npra': 2089, 'trend': 3074, 'aefi': 225, 'regulator': 2472, 'tiada': 3018, 'peringkat': 2273, 'gubernur': 1056, 'anies': 307, 'dubes': 873, 'korsel': 1625, 'ucap': 3126, 'kasih': 1457, '141604kabawo': 51, 'serka': 2722, 'laode': 1709, 'armin': 339, '10': 21, 'parigi': 2214, 'muna': 1996, '732022': 177, 'jangka': 1303, 'alun': 277, 'pekayon': 2248, 'muhtar': 1990, 'hp081511342000': 1145, 'ktp': 1641, 'asli': 351, 'tulis': 3093, 'gera': 1021, 'tumpu': 3097, 'libat': 1755, 'kapasiti': 1438, 'masih': 1866, '3selalu': 140, '5m': 159, 'mobilitas': 1955, 'taat': 2907, '2665': 125, '141601katobu': 50, 'pelda': 2250, 'ode': 2114, 'hanafi': 1092, 'dariono': 746, 'rimusthoful': 2509, 'khafid': 1546, 'lohia': 1779, 'waara': 3219, 'jakamulya': 1290, 'bripka': 589, 'sudirman': 2856, 'hp089683497957': 1146, 'populer': 2338, 'lulus': 1799, 's2': 2550, 'imperial': 1193, 'college': 684, 'london': 1781, 'nisa': 2077, 'sri': 2829, 'wahyuni': 3223, 'ojol': 2122, 'karir': 1447, 'organisasi': 2149, 'kontribusi': 1613, 'tar': 2945, 'ngecek': 2056, 'latar': 1716, 'tifa': 3027, 'liat': 1752, 'desas': 782, 'desus': 785, 'rm34': 2520, 'petaling': 2289, 'picagari': 2297, 'ngundang': 2067, 'tokoh': 3057, 'islam': 1255, 'undang': 3152, 'ustadz': 3175, 'kontra': 1612, 'habib': 1069, 'kribo': 1634, 'louis': 1787, 'tirta': 3047, 'om': 2131, 'bredel': 583, 'channel': 664, 'insentif': 1235, 'bekerjasama': 477, 'kwitang': 1667, 'kecsenen': 1478, 'jl': 1347, 'rw': 2548, 'sukses': 2861, 'satlantas': 2614, 'trenggalek': 3075, 'sim': 2767, 'satpas': 2615, 'semangat': 2676, 'gawe': 1001, 'hati': 1113, 'rasiro': 2455, 'sakor': 2566, 'ditlantas': 835, 'rtmc': 2533, 'ayol': 372, 'awan': 364, 'kaltim': 1414, 'polresta': 2331, 'samarinda': 2577, 'kp': 1628, 'slemanis': 2796, 'mu': 1983, 'amarga': 281, 'soyo': 2820, 'banter': 432, 'blokir': 560, 'dibanten': 801, 'via': 3208, 'dory': 854, 'mikir': 1932, 'anjir': 308, 'ta': 2906, 'trial': 3077, 'simpanse': 2770, 'lingkung': 1762, 'saya': 2624, 'amarrul': 282, 'unit': 3158, 'binmas': 540, 'daya': 758, 'karya': 1451, 'perempuan': 2268, 'wa': 3218, 'syukru': 2903, 'lillahi': 1759, 'bapak': 438, 'rawat': 2460, 'ruang': 2534, 'sepuh': 2709, 'diabetes': 797, 'jantung': 1307, 'yoonbak': 3297, 'isoman': 1258, 'syuting': 2905, 'drama': 863, 'ramal': 2438, 'cuaca': 708, 'siar': 2751, 'meh': 1892, 'mosti': 1977, 'hashim': 1108, 'had': 1071, 'sahaja': 2559, 'oral': 2144, 'dewan': 789, 'sisi': 2784, 'parlimen': 2216, 'inap': 1203, 'berat': 500, 'selain': 2663, '67': 166, 'bahkan': 399, '91': 192, 'yb': 3287, 'kj': 1564, 'lancang': 1696, 'dumai': 881, 'buka': 603, 'dewasa': 790, 'pos': 2339, 'polisi': 2328, '902': 190, 'putri': 2417, 'tujuh': 3091, 'mahkamah': 1817, 'bunuh': 614, 'kenang': 1518, 'balit': 409, 'bayang': 459, 'hebat': 1117, 'klw': 1574, 'kandang': 1428, 'sembako': 2679, 'mall': 1840, 'turis': 3105, 'bye': 622, 'butir': 619, 'cair': 628, 'droplet': 869, 'salur': 2575, 'napas': 2026, 'lontar': 1785, 'bersin': 511, 'hlbk': 1137, 'lembaga': 1732, 'molekuler': 1964, 'eijkman': 898, 'amin': 287, 'soebandrio': 2805, 'majelis': 1819, 'terbit': 2990, 'fatwa': 943, 'merah': 1913, 'putih': 2416, 'biotis': 547, 'pharmaceuticals': 2295, 'unair': 3150, 'suci': 2853, 'optimis': 2141, 'tanah': 2926, 'datar': 752, 'bupati': 615, 'richi': 2504, 'aprian': 332, 'pagaruyung': 2173, '12az': 42, '123': 39, 'kusuma': 1665, 'bagai': 387, 'ready': 2465, 'sangkut': 2595, '198': 79, '123by': 41, 'pusk': 2412, 'sempaja': 2687, 'alamat': 264, 'terterapusk': 2999, 'loa': 1773, 'bakung': 403, 'sidomulyo': 2755, '23az': 108, '12310': 40, 'kel': 1488, 'juli': 1365, 'expos': 932, 'eksklusif': 904, 'manipulasi': 1852, 'studi': 2847, 'cdc': 645, 'care': 641, 'organizer': 2151, 'hco': 1115, 'lantik': 1708, 'rara': 2452, 'jom': 1357, 'layar': 1721, 'klik': 1570, 'edisi': 888, 'peti': 2290, 'emajalah': 907, 'myhealth': 2010, 'trauma': 3070, 'risau': 2512, 'my': 2009, 'son': 2812, 'kkpa': 1567, 'ccelerate': 644, 'budhi': 600, 'asih': 348, 'online': 2136, 'link': 1763, 'pukul': 2394, '1100': 33, '6773': 168, '192': 77, '1465': 54, '184': 73, 'kategori': 1460, '55': 154, '85': 188, '44': 145, 'babi': 377, 'puncak': 2401, 'bin': 534, 'koran': 1620, 'geber': 1004, 'istirahat': 1264, 'merdekaroadmap': 1919, 'disiapin': 829, 'transisi': 3068, 'picu': 2298, 'kejut': 1486, 'lhobooster': 1750, 'eks': 903, 'direktur': 825, 'idul': 1176, 'fitri': 956, 'milih': 1935, 'diem': 805, 'bayar': 460, 'pematang': 2253, 'pangkal': 2197, 'susu': 2892, 'brigadir': 586, 'rico': 2505, 'surya': 2890, 'ardana': 337, 'monitoring': 1969, 'masal': 1864, 'kubu': 1649, '15': 61, 'populasi': 2337, 'galak': 981, 'serama': 2713, '15017166': 64, 'takat': 2915, '1026732': 26, '974': 197, 'sekarang': 2653, 'mnow': 1953, 'juga': 1362, 'enzim': 922, 'maka': 1823, 'pelihara': 2251, 'terna': 2996, 'demi': 770, 'ancam': 294, 'siswa': 2787, 'solo': 2809, '60': 160, 'tanggung': 2935, 'jawab': 1322, 'syamsuar': 2899, 'mojokerto': 1962, 'humas': 1159, 'prediksi': 2358, 'padahal': 2169, 'prokes': 2377, 'piy': 2312, 'jal': 1293, 'gitu': 1035, 'kak': 1399, 'hijau': 1127, '289': 130, 'atus': 358, 'endemik': 917, '147858311': 58, 'lampost': 1693, 'co': 680, 'harlah': 1104, 'ke99': 1472, 'suara': 2850, 'sampurasun': 2585, 'sobatnet': 2804, 'istimewa': 1263, 'purwakarta': 2406, 'diskominfo': 831, 'makin': 1827, 'digjaya': 807, '19indonesia': 81, 'hukum': 1156, 'enih': 920, 'pls': 2320, 'ngerasain': 2059, 'gin': 1033, 'karuan': 1450, 'kumulatif': 1657, '67731132': 169, 'coronavac': 691, 'esok': 928, 'harap': 1098, 'morning': 1975, 'tweeps': 3114, 'uptd': 3168, 'sawangan': 2623, 'salam': 2569, 'monggo': 1968, 'djkajdkajkd': 839, 'lil': 1758, 'bhdunia': 522, 'zhu': 3309, 'tao': 2943, 'ketua': 1544, 'cansinobio': 637, 'sii': 2759, 'duh': 876, 'males': 1838, '0632022': 9, 'pagi': 2174, 'yustisi': 3305, 'ppkm': 2351, 'level': 1747, 'dihimbau': 809, 'jateng': 1316, 'linmas': 1764, 'shmm': 2742, 'gap': 990, 'months': 1972, 'ulang': 3136, 'rsu': 2527, 'muhammadiyah': 1989, '612': 162, 'sinovacdosis': 2780, 'wabah': 3220, 'gus': 1066, 'rapi': 2450, 'ilmu': 1186, 'tua': 3084, 'kadar': 1387, 'muda': 1986, 'risiko': 2513, 'reliable': 2478, 'pati': 2233, 'kesejahtraan': 1538, 'jim': 1342, 'hotel': 1144, 'pawanratkomarwut': 2237, 'mal': 1832, 'tegal': 2959, 'monday': 1967, 'pusbang': 2410, 'supermarket': 2881, 'belanja': 481, 'pjj': 2313, 'mudah2an': 1988, 'jatisampurna': 1321, 'liya': 1771, 'melaka': 1894, 'ayat': 369, 'iniaku': 1228, 'sintom': 2782, 'kuatada': 1648, 'ibu': 1167, 'rukun': 2537, 'iman': 1189, 'lantar': 1706, 'usut': 3176, 'hibur': 1124, 'ramli': 2441, 'sarip': 2606, 'jokowi': 1356, 'hutang': 1162, 'tiba': 3020, 'mafia': 1812, 'raih': 2425, 'begitu': 474, 'antri': 321, 'pintu': 2310, 'krl': 1640, 'useless': 3173, 'wasting': 3240, 'kayak': 1468, 'deh': 764, 'ngantri': 2050, 'maksud': 1831, 'nkri': 2079, 'jumlah': 1368, 'remaja': 2479, 'sementara': 2686, '26705490': 126, '265': 121, 'salep': 2572, 'gatal': 996, 'perih': 2270, 'lo': 1772, 'lur': 1804, 'en': 911, 'bunga': 613, 'cengkih': 653, 'fuck': 970, 'marah': 1856, 'smpai': 2799, '6878': 170, 'ciri2': 674, 'qadrun': 2419, 'odgj': 2115, 'gt1': 1053, 'gila2': 1031, 'gabener': 977, 'pembohong3': 2255, 'korup4': 1626, 'baliho': 407, 'kriminal5': 1636, 'covid6': 699, 'berbayar7': 501, 'kaum': 1462, 'pecat': 2241, 'informasi8': 1220, 'dengar': 775, 'luas': 1794, 'imunitasn': 1198, 'progres': 2375, '12046742': 38, 'xbs': 3272, '7662': 179, 'tuntas': 3104, 'norwegia': 2087, 'febr': 946, 'qr': 2420, 'code': 683, 'kasus': 1458, '42': 143, 'pandemik': 2195, 'tumbang': 3094, 'gawat': 1000, 'pilpres': 2306, 'tunda': 3099, 'maaf': 1807, 'breaking': 582, 'diktator': 812, 'asi': 346, 'formula': 964, '1970an': 78, 'nestle': 2042, 'imunekan': 1195, 'ko': 1576, 'mempan': 1901, 'segara': 2647, 'supaya': 2878, 'invasi': 1248, 'ukraina': 3133, 'aneksasi': 298, 'krimea': 1635, 'masalah': 1865, 'negri': 2038, 'inflasi': 1216, 'kalau': 1404, 'ham': 1087, 'tradis': 3065, 'muncul': 1997, 'lepas': 1741, 'wuhan': 3270, 'gangga': 985, 'lengan': 1738, 'leceh': 1724, 'pantes': 2204, 'ngomongin': 2065, 'nantangin': 2024, 'scientist': 2630, 'barangkali': 442, '970000': 196, 'luar': 1793, 'trs': 3081, 'pihak': 2299, 'lawak': 1718, 'berhala': 503, 'aj': 242, 'bermedsos': 508, 'berapa': 499, 'limbah': 1760, 'rusak': 2541, 'suhu': 2858, 'januari': 1308, 'bayi2': 462, 'kampung': 1420, 'gara': 992, 'error': 925, 'karakter': 1441, 'blm': 557, 'kenapa': 1519, 'tangkal': 2936, 'tandang': 2927, 'ulas': 3138, 'wara': 3234, 'wiri': 3254, 'tarmizi': 2950, 'blog99': 559, 'nico': 2071, 'design': 783, '99': 201, '106': 27, 'miliar': 1934, 'juni': 1371, 'vs': 3216, 'ukraine': 3134, 'rki': 2517, '2g3g': 132, 'ratus': 2459, 'bengkulu': 490, 'musim': 2006, 'rebak': 2467, 'keliling': 1496, 'maklum': 1828, 'swasta': 2896, 'gp': 1047, 'janji': 1306, 'tenang': 2978, 'guys': 1067, 'hajar': 1078, 'madu': 1811, 'purba': 2404, 'hitam': 1134, 'murni': 2003, 'oku': 2128, '147': 56, 'stage': 2835, 'boostervaksin': 574, 'real': 2466, 'wow': 3267, 'rhi': 2498, 'rambut': 2439, 'rontok': 2523, 'sentuh': 2704, '2663': 124, 'rinciannya': 2510, 'sia': 2747, 'cer': 657, 'ish': 1254, 'segala': 2646, 'jilid': 1341, 'ubah': 3121, 'haihh': 1077, 'semput': 2692, 'nyaman': 2103, 'proteksi': 2380, 'lengah': 1737, 'cuan': 709, '5g': 158, 'alhamadulillah': 269, '18jt': 74, 'wahahahahahahahahahahahahahahahahahahahahahahahahahahahahahahahaha': 3222, 'variasi': 3206, '13jt': 47, '275rbx2': 127, 'kelar': 1491, 'trus': 3083, 'kabpemalang': 1382, 'pcare': 2240, 'idpi': 1175, 'kobar': 1578, 'piko': 2302, 'juara': 1359, 'ridwan': 2506, 'kamil': 1417, 'doa': 845, 'semprot': 2691, 'spirtus': 2828, 'bensin': 491, 'taurine': 2953, 'rebus': 2468, 'daun': 756, '150901': 65, 'bacan': 382, 'pakar': 2179, 'patut': 2236, 'tiru': 3048, 'sadar': 2556, 'opa': 2137, 'nawakngalam': 2032, 'mejd': 1893, 'min3': 1938, 'timbang': 3034, 'kelgmalangvaksin': 1495, 'vaksinmalang': 3197, 'ivm': 1273, 'bangkang': 420, 'cerdik': 658, 'pandai': 2192, 'sokong': 2807, 'puak': 2389, 'pun': 2400, 'cuma': 715, 'nafi': 2014, 'titik': 3050, 'adverse': 224, 'saja': 2563, 'sumbar': 2868, 'bahak': 393, 'antimasker': 318, 'indodikiranya': 1209, 'hg': 1123, 'rasai': 2454, 'benda': 488, 'kite': 1562, 'niece': 2072, 'suri': 2887, 'was': 3238, '26': 120, '57': 157, '92': 193, '64': 164, 'berkesandos': 507, 'sekarangsihatbersama': 2654, '2019': 89, '2020': 90, 'vaksin2021': 3185, '2023': 94, 'tbd': 2957, 'brimobda': 588, 'isteri': 1261, 'herba': 1121, 'dn': 843, 'vitamin': 3215, 'maha': 1814, 'lencana': 1736, 'hormat': 1143, 'after': 226, 'post': 2342, 'rangkum': 2446, 'hk': 1136, 'inisalah': 1231, 'jawara': 1323, 'ch': 662, 'tw': 3113, 'music': 2004, 'lekas': 1726, 'mr': 1980, 'dj': 838, 'rajalela': 2427, 'takedown': 2916, 'kontenjohnny': 1611, 'plate': 2317, 'nangkep': 2023, 'twitnya': 3118, 'ss': 2831, 'an': 292, 'twit': 3117, 'bandingin': 415, 'jelas2': 1330, 'terjemah': 2993, 'lama': 1688, 'sridiana3va': 2830, 'mandotary': 1849, 'rangsang': 2447, 'dampak': 733, 'ati': 356, 'pamudji': 2190, 'hastuti': 1111, 'meyebut': 1929, 'peristiwa': 2275, 'biotech': 546, 'ltd': 1792, 'manjur': 1853, 'tren': 3073, '191': 76, 'dorong': 853, 'merespon': 1922, 'kontak': 1608, '8176': 185, '24226972': 111, '2463': 115, 'johnny': 1352, 'hanat': 1093, 'umah': 3141, 'kuarintin': 1645, 'dakwa': 730, 'cuba': 710, 'awani745': 365, 'jarang': 1311, 'les': 1744, 'kukuh': 1652, '80': 183, 'restoran': 2493, 'premis': 2360, 'lumas': 1800, 'kabaroto': 1380, 'com': 685, 'otonews': 2158, 'otoupdate': 2160, 'otomotif': 2157, 'saling': 2574, '01': 0, 'wonosari': 3264, '1982': 80, 'mbkanak': 1887, 'seko': 2657, '20an': 99, 'olahraga': 2129, '90': 189, 'menit': 1909, 'optimal': 2140, 'khairy': 1547, 'cisimeut': 676, 'leuwidamar': 1746, 'iton': 1269, 'rustandi': 2543, 'tlna': 3052, 'nyalahin': 2101, 'ngikut': 2062, 'insecure': 1234, 'mak': 1822, 'jinak': 1343, 'sahih': 2560, 'rtm': 2532, 'yokngundi': 3290, 'isreal': 1260, 'inggris': 1224, 'cenderung': 651, 'berangan': 494, 'lampir': 1692, '1x24': 85, 'kk': 1565, 'bhayangkari': 521, 'bangka': 417, 'beritamusi': 506, 'karyawan': 1452, 'bhw': 523, 'zat': 3308, 'saraf': 2601, 'obedience': 2112, 'training': 3067, 'platform': 2318, 'polairud': 2324, 'kece': 1477, 'nelayan': 2039, 'labuh': 1673, 'lelang': 1728, 'menghimbau': 1906, 'gmn': 1037, 'ubat': 3122, 'bg': 517, 'melarat': 1896, 'aamiinn': 203, 'jujur': 1363, 'swag': 2895, 'wajar': 3224, 'bahan': 394, 'modal': 1957, 'credit': 705, 'rampd': 2443, 'departemen': 777, 'industri': 1214, 'bsvc': 594, 'intelejen': 1243, 'binda': 537, 'lampung': 1694, 'alias': 272, 'metro': 1928, '1194': 35, 'indoposco': 1212, 'aktifitas': 260, 'tipu': 3046, 'pm': 2322, 'fda': 944, 'india': 1206, 'gapapa': 991, 'san': 2586, 'duluan': 878, 'rebut': 2469, 'koreksi': 1622, 'ayok': 371, 'bela': 479, 'dllini': 841, 'kalian2': 1408, 'remehin': 2481, 'rasa': 2453, 'pikirin': 2301, 'papdi': 2207, 'now': 2088, 'kemenag': 1509, 'agens': 232, 'yoon': 3295, 'park': 2215, 'perak': 2262, 'syarikat': 2901, 'gergasi': 1024, 'ladang': 1674, 'kedah': 1480, 'pahang': 2176, 'imuntas': 1200, 'covid19disamping': 698, 'kondisi': 1597, 'bangkal': 419, 'covidiots': 701, 'bahas': 396, 'danshare': 739, 'paska': 2225, 'nyuruh': 2110, 'ruwetnesia': 2547, 'rakus': 2430, 'serakah': 2712, 'tamak': 2921, 'lestari': 1745, 'fasyankes': 941, 'panik': 2199, 'benah': 485, 'pasar': 2222, 'gentayang': 1020, 'berfikir': 502, 'covidada': 700, 'tempoh': 2975, 'noah': 2080, 'kawan2': 1465, 'sikit': 2762, 'maybe': 1885, '7038': 173, 'anjur': 309, 'hiv': 1135, 'ungkap': 3156, 'luc': 1795, 'montagnier': 1970, 'vineeta': 3211, 'sekali': 2652, 'ct': 707, 'lidah': 1756, 'ilang': 1185, 'lt25': 1791, 'ntah': 2090, 'kbetulan': 1469, 'ajaib': 243, 'musik': 2005, 'tanpa': 2941, 'kamaruddin': 1415, '140908': 49, 'inpres': 1233, 'pabbundukang': 2166, 'kelbontoramba': 1494, 'bontonompo': 572, 'gowa': 1046, 'comirnaty': 687, 'biontech': 545, 'tagih': 2908, 'bahawa': 397, 'kampus': 1421, 'ptsb': 2388, 'polio': 2327, 'cacar': 626, 'tetanus': 3007, 'antan': 313, '40150': 142, 'liput': 1768, '208': 97, 'semalamberita': 2675, 'indonesianewnormal': 1211, 'breng': 584, 'kkp': 1566, 'delta': 768, 'dio': 822, 'kemiri': 1515, '78': 180, '2022young': 93, 'gym': 1068, 'kelapa': 1490, 'gading': 979, 'uinsi': 3130, 'abul': 208, 'hasan': 1107, 'lembuswana': 1734, 'tera': 2985, 'geger': 1008, 'wm': 3263, 'ent': 921, 'ngumumin': 2066, 'covid19aku': 697, 'full': 973, 'ke2': 1471, 'nunda': 2094, 'schedule': 2627, 'miracle': 1943, 'gas': 995, 'ojek': 2121, 'ben': 484, 'banyumas': 436, 'bebatiran': 470, 'purwokerto': 2407, 'candi': 636, 'tusuk': 3108, 'ampg': 288, 'ulyl': 3140, 'nurdin': 2098, 'hrt': 1148, 'nusantara': 2099, 'dilaksanakancuman': 813, 'buta': 617, 'bansos': 428, 'first': 954, 'thing': 3014, 'kamus': 1423, 'kalian': 1407, 'bpjs': 579, 'trilyunan': 3079, 'terteravaksinmaretsamarinda': 3000, 'jambi': 1300, 'nakes': 2017, 'matiayo': 1877, 'fanatik': 937, 'ting': 3040, 'sana': 2587, '25000000': 118, 'pil': 2303, 'sindrom': 2774, 'long': 1782, 'syndrome': 2902, 'mungkin': 1999, 'sembuhambil': 2683, '3w': 141, '3s': 139, 'praktis': 2355, '11035': 34, 'dna': 844, 'gsp': 1052, 'fire': 953, 'sorg': 2817, 'sensitif': 2700, 'nampak': 2020, 'edit': 889, 'screenshot': 2631, 'fully': 974, 'should': 2745, 'be': 467, '7days': 181, 'hso': 1150, '10hari': 30, 'syak': 2898, 'something': 2811, 'awak': 360, 'getar': 1025, 'kemensos': 1514, 'yuppp': 3304, 'tuu': 3110, 'cara': 640, 'harfiah': 1099, 'with': 3257, 'tuuu': 3111, 'jerr': 1336, 'saroyo': 2607, 'rambutan': 2440, 'alex': 268, 'butarbutar': 618, 'dian': 800, 'maulana': 1880, 'gugur': 1059, 'timbul': 3035, 'kriteria': 1637, 'dahsyat': 727, 'seblm': 2639, 'cium': 678, 'inidemam': 1229, 'meriang': 1923, 'linu': 1767, 'panas': 2191, 'dingin': 818, 'emang': 908, 'best': 515, 'bbpom': 464, 'surabaya': 2882, 'bpomri': 581, 'dewintha': 791, 'nge': 2054, 'yoonalim': 3296, 'artis2': 342, 'gencarin': 1015, 'dlu': 842, 'awal2': 362, 'semangatin': 2677, 'adacm': 213, 'idol': 1173, 'pamer': 2188, 'vaksinaku': 3186, 'bertanya2': 512, 'idol3': 1174, 'warawiri': 3235, 'covidsaya': 703, 'delapan': 767, 'iswanda': 1267, 'decision': 761, 'family': 936, 'cocok': 682, 'welcome': 3249, 'thankful': 3011, 'god': 1038, 'sesal': 2732, 'merdekaberkerumun': 1918, 'selfi': 2672, 'ramadan': 2434, 'yukbooster': 3302, 'ntt': 2093, 'selubung': 2674, 'cucuk': 712, 'labih': 1672, 'wali': 3229, 'pekanbaru': 2247, 'firdausst': 952, 'mt': 1982, 'imbau': 1190, 'orangtua': 2146, 'agar': 230, '14984241': 60, '637': 163, '22927098': 103, 'manakala': 1845, '23203753': 107, '986': 200, '1003227': 24, '283': 129, 'perkara': 2277, 'bincang': 536, 'vtl': 3217, 'brunei': 591, 'kerjasama': 1534, 'nunukan': 2096, 'angsur': 306, '23': 104, '82': 186, 'kaltara': 1413, 'malinau': 1839, 'bulungan': 610, 'tana': 2925, 'tidung': 3025, 'tanjung': 2940, 'lor': 1786, 'yaajokowi': 3278, 'antisipasi': 319, 'puasa': 2391, 'pkm': 2316, 'nahh': 2016, 'yoohh': 3293, 'bisimillah': 551, 'kini360': 1556, 'ph': 2294, 'telegram': 2967, 'grafik': 1048, 'yacek': 3279, 'food': 963, 'drug': 870, 'administration': 222, 'intelkam': 1245, 'dolok': 848, 'masihul': 1867, 'deteksi': 787, 'serba': 2716, 'am': 278, 'read': 2464, 'more': 1974, 'padu': 2172, 'fitnah': 955, 'dajjal': 729, 'hahaha': 1074, 'walikota': 3230, 'firdaus': 951, 'udel': 3129, 'nepakin': 2040, 'ignorance': 1177, 'aware': 366, 'mentang2': 1911, 'gabus': 978, 'baduy': 386, 'boys': 578, 'hold': 1139, 'majoriti': 1820, 'bln': 558, 'ndilalah': 2034, 'feb': 945, 'udah': 3127, 'khasiat': 1549, 'df': 792, 'dgf': 794, 'dgdgd': 793, 'fmt': 961, 'ular': 3137, 'ehwal': 897, 'rakyatsyamsuar': 2433, 'advers': 223, 'speedboat': 2822, 'reguler': 2473, 'speedboatreguler': 2823, 'speed': 2821, 'boat': 563, 'mbak': 1886, '67672349': 167, 'enemy': 918, 'deadly': 760, 'sumpek': 2871, 'dimana2': 814, 'overload': 2163, 'jawat': 1324, 'oksigen': 2127, 'desperation': 784, 'pasrah': 2227, 'maksimal': 1830, 'apd': 327, 'original': 2152, 'versi': 3207, 'sepak': 2706, 'bola': 568, 'band': 411, 'member': 1898, 'demikian': 771, 'sanit': 2596, 'julang': 1364, 'angkasacari': 303, 'n95': 2011, 'nurani': 2097, 'efektifvaksin': 894, 'kredibilitas': 1633, 'su': 2848, 'deng': 773, 'vaksinjang': 3194, 'malut': 1842, 'utara': 3178, 'agam': 228, 'lucu': 1796, 'sisip': 2785, 'chip': 667, 'lithium': 1770, 'mood': 1973, 'stabilizer': 2832, 'bipolar': 548, 'kreatifkreatif': 1631, '21': 100, 'interval': 1246, 'infografis': 1218, 'keraton': 1529, 'agung': 233, 'leluasa': 1729, 'kualalumpur': 1642, 'revisi': 2494, 'puluh': 2399, 'aral': 336, 'lintang': 1765, '56': 155, 'loh': 1777, 'dysaniaa': 885, 'baharu': 395, 'film': 950, 'tamu': 2924, 'oscars': 2154, 'hollywood': 1140, 'reporter': 2486, 'thr': 3016, 'vaccination': 3181, 'required': 2489, 'pribadi': 2363, 'jais': 1288, 'jumaat': 1366, 'halus': 1086, 'saran': 2603, 'riwayat': 2515, 'lohh': 1778, 'vaksinjatimbangkit': 3195, 'jatimtanggapcovid19': 1320, 'jatimpemprov': 1319, 'johor': 1354, 'prn': 2367, 'jangan': 1302, 'experimental': 931, 'nyamain': 2102, 'rilis': 2508, 'bodong': 566, 'ena': 912, 'dih': 808, 'lumpuh': 1802, 'hepatitis': 1119, 'campak': 634, 'kanker': 1431, 'serviks': 2730, 'targetayo': 2948, 'ganggu': 987, 'bukankah': 605, 'tics': 3022, 'kami': 1416, 'tuding': 3087, 'fenomena': 948, 'lahh': 1677, 'elak': 905, 'power': 2348, 'goncang': 1041, 'apalgi': 324, 'kareem': 1445, 'cetak': 661, 'bandara': 413, 'robby': 2522, 'mmng': 1951, 'sk': 2793, 'kakmohon': 1401, 'bm': 561, 'skrang': 2795, 'fasa': 939, 'endemicperatus': 916, 'kritikal': 1639, 'katil2': 1461, 'paya': 2238, 'new': 2044, 'york': 3298, 'signifikan': 2757, 'korban': 1621, 'mah': 1813, 'dprd': 861, 'prank': 2356, 'niat': 2070, 'ultah': 3139, 'bangsul': 423, 'bday': 466, 'giftnya': 1029, 'garis': 994, 'official': 2118, 'ngetwit': 2060, 'webinar': 3246, 'ambruk': 285, 'tentara': 2981, 'yak': 3282, 'duluin': 879, 'hamdulillah': 1089, 'kagak': 1391, 'lalai': 1685, 'rileks': 2507, 'kumpul': 1656, 'kira': 1557, 'conet': 688, 'aaminn': 204, 'inshaallah': 1236, 'xdek': 3274, 'parents': 2212, 'rak': 2428, 'baru2': 447, 'wlupn': 3262, 'komobid': 1588, 'ganas': 984, 'paru2': 2221, 'aih': 238, 'seperti': 2708, 'unvax': 3163, 'tipes': 3045, 'covidudah': 704, 'santa': 2598, 'isoma': 1257, 'saturasi': 2617, '84': 187, 'oxycan': 2164, 'prasetiyo': 2357, 'suka': 2859, 'ngatain': 2052, 'blg': 556, 'uncover': 3151, 'item': 1268, 'woy': 3268, 'kaget': 1392, 'smpe': 2800, 'anosmia': 312, 'indera': 1205, 'malamjust': 1834, 'remuk': 2482, 'dinihari': 819, '230': 105, 'alhamdulilah': 270, 'skarang': 2794, 'lalusaya': 1687, 'cryptos': 706, 'kids': 1554, 'idcc': 1170, 'centre': 655, 'shah': 2739, 'taksir': 2917, 'matlast': 1878, 'bdan': 465, 'usai': 3172, 'mual': 1985, 'muntah': 2000, 'biru': 549, 'kejang': 1484, 'btc': 595, 'dek': 765, 'cukai': 713, 'rm1000': 2519, 'plus': 2321, 'situ': 2789, '203986': 96, 'kebon': 1474, 'jeruk': 1337, 'selenggara': 2669, 'duri': 884, 'kepa': 1525, '532022': 153, 'ah': 235, 'genetika': 1017, 'scientific': 2629, 'ejek': 900, 'science': 2628, 'mako': 1829, 'bid': 528, 'bernamaklik': 509, 'tarik': 2949, 'lain': 1679, 'sinar': 2772, 'tunggang': 3101, 'agama': 229, 'selagi': 2662, 'abah': 205, 'free': 968, 'ek': 901, '01purworejo': 3, 'sertu': 2728, 'riyanto': 2516, 'babinkamtibmas': 378, 'komsos': 1594, 'aparat': 325, 'ganggeng': 986, 'purworejo': 2408, 'siap': 2750, 'palaksanaan': 2183, 'serbu': 2717, 'serentak': 2719, 'batman': 452, 'ayah': 368, 'bruce': 590, 'wayne': 3243, 'musuh': 2007, 'joker': 1355, 'hasut': 1112, 'kah': 1393, 'moda': 1956, 'steril': 2840, 'isomanan': 1259, '0432022': 6, 'https': 1151, '13334': 46, '24218796': 110, 'oknum': 2126, 'dana': 736, 'saski': 2610, 'hang': 1095, 'cukup': 714, 'koar': 1577, 'genjot': 1018, 'mampu': 1843, 'pahlawan': 2177, 'iyaa': 1275, 'pegel2': 2245, 'ngambang': 2049, 'konsen': 1603, 'ngantuk': 2051, 'temenku': 2972, 'kmudian': 1575, 'tiba2': 3021, 'bintik': 543, 'masyaallah': 1873, 'hamba': 1088, 'istri': 1265, 'sm': 2797, 'ye': 3288, 'umelindungi': 3143, 'fatal': 942, 'walaulun': 3228, 'meminimalisir': 1899, 'jerman': 1335, 'johnson': 1353, 'eua': 930, 'alternatif': 276, 'inactivated': 1202, 'reposted': 2487, 'from': 969, 'barai': 439, 'hal': 1080, 'unggah': 3154, 'baraisymptoms': 440, 'dtg': 871, 'by': 621, 'severe': 2736, 'murid': 2002, 'mi': 1931, 'nazwa': 2033, 'suda': 2854, 'wathoni': 3242, 'sini': 2777, 'ngibul': 2061, 'omipret': 2134, 'siluman': 2766, 'florida': 959, 'tegur': 2961, 'kopit': 1618, 'lega': 1725, 'yangpentinghalal': 3285, 'otw': 2161, 'fucksintop': 972, 'terkiniwow': 2994, 'sd': 2632, 'akselarasi': 255, 'efektifitas': 893, 'shalat': 2740, 'akhir2': 252, 'sickny': 2754, 'gampang': 983, 'radang': 2422, 'cape': 639, 'jkn': 1345, 'arah': 335, 'niaga': 2069, 'bazar': 463, 'sebarang': 2637, 'bareng': 445, 'wonwoo': 3265, 'kanya': 1434, 'tawar': 2954, 'din': 815, 'vaksinboosternya': 3193, 'eindee': 899, 'permanen': 2279, 'your': 3299, 'sindir': 2773, 'bagor': 390, 'miri': 1944, 'dpr': 860, '1800': 71, '146305278': 53, '7025': 172, 'selsema': 2673, '1st': 84, 'haritu': 1103, 'lepasaku': 1742, 'outfit': 2162, 'theater': 3013, 'xxi': 3275, 'balik': 408, 'fleksibel': 958, 'libas': 1754, 'dihoaks': 810, 'jalahoaks': 1294, 'angkasa': 302, 'paper': 2208, 'batam': 450, 'dua': 872, 'warna': 3237, 'gerbang': 1023, 'sekolahaku': 2659, 'liatin': 1753, 'ngerasa': 2058, 'superior': 2880, 'sample': 2584, 'spikes': 2827, 'vaksinpertama': 3199, 'pekan': 2246, 'divalidasi': 836, '1500533': 62, 'spike': 2826, 'lapis': 1712, 'gula': 1062, 'dripada': 865, 'jngn': 1349, 'sekte': 2660, 'double': 859, 'urine': 3169, 'sumonggo': 2870, 'dulur': 880, 'infovaksin': 1222, 'jogja': 1350, 'bantah': 430, 'stopmandatoy': 2842, 'kolot': 1583, 'vaksinrsjd': 3200, 'surakarta': 2883, '53': 152, 'indraprasta': 1213, 'rsjd': 2525, 'rsjdsurakarta': 2526, 'kelola': 1498, 'mercure': 1914, 'papua': 2209, 'karyawannya': 1453, 'teh': 2962, 'korelasi': 1623, 'yah': 3280, 'sentimen': 2702, 'covidn': 702, 'klm': 1573, 'xcuba': 3273, 'btolkan': 596, 'nipadahal': 2075, 'jebkn': 1327, 'self': 2671, 'defencetp': 762, 'jga': 1338, 'momok': 1966, 'kewajipan': 1545, 'scara': 2626, 'tmbul': 3053, 'nyebar': 2107, 'subvarian': 2852, '252': 119, 'premier': 2359, 'empat': 910, 'sanda': 2589, 'dos': 855, 'awam': 363, 'pulayg': 2397, 'posisi': 2340, 'energi': 919, 'rezeki': 2495, 'survive': 2889, 'singgah': 2776, 'tbtb': 2958, 'deret': 778, 'palu': 2187, 'cikeusal': 670, 'jumpa': 1369, 'bole': 570, 'receive': 2470, 'pfizers': 2293, 'treatment': 3072, 'month': 1971, 'pakar2': 2180, 'ubatdrug': 3123, 'laju': 1681, 'serambi': 2714, 'banjar': 425, 'ramah': 2436, 'integritas': 1242, 'intan': 1240, 'ternate': 2997, 'tidore': 3024, 'tobelo': 3056, 'maba': 1808, 'morotai': 1976, 'jailolo': 1287, 'weda': 3248, 'sanana': 2588, 'taliabu': 2920, 'halmahera': 1084, 'fyi': 976, 'sempet': 2689, 'kpn': 1629, 'dri': 864, 'wktu': 3259, '1bln': 83, 'dinytakan': 821, 'smart': 2798, 'listeners': 1769, 'kendor': 1524, 'potensi': 2345, '146577204': 55, 'trimedya': 3080, 'ppdb': 2349, 'sejabodetabek': 2650, 'meminimalisirkan': 1900, 'sukabumi': 2860, 'sweeping': 2897, 'unjung': 3160, 'pantai': 2202, 'palabuhan': 2182, 'ratu': 2458, 'ja': 1277, 'ba': 374, 'lapang': 1710, 'salero': 2573, 'tnipolri': 3054, 'prov': 2382, 'intelijen': 1244, 'vaksinanak': 3187, 'stres': 2845, 'komen': 1584, '0819': 18, 'pasuruan': 2232, 'jajar': 1289, 'bintara': 542, '081905': 19, 'grati': 1049, 'utomo': 3179, '528': 151, 'mula': 1993, 'salapian': 2570, 'mobilisasi': 1954, 'langkat': 1701, 'bnpt': 562, 'sekdes': 2655, 'sembilan': 2681, 'tunai': 3098, 'solat': 2808, 'surau': 2886, 'standard': 2837, 'kekal': 1487, '1april2022yb': 82, 'adalah': 215, 'lampungpost': 1695, 'semenjak': 2685, 'kemaren': 1503, 'kuching': 1650, 'berangsang': 496, 'tegas': 2960, 'tuanku': 3085, 'rakyatroslan': 2432, 'smssolat': 2801, 'lancar': 1697, 'berturutturut': 513, 'iaitu': 1165, 'gogog': 1039, 'geus': 1026, 'ge': 1003, 'ngajamin': 2047, 'hr': 1147, 'gila': 1030, 'tetangga': 3006, 'iri': 1252, 'konsisten': 1604, 'remeh': 2480, 'kopda': 1616, 'junedi': 1370, 'cerenti': 659, '0302': 5, 'inhu': 1226, '011': 2, 'pulau': 2396, '02': 4, 'jati': 1317, 'mercy': 1916, 'please': 2319, 'pass': 2228, 'kalsel': 1412, 'wbk': 3245, 'wbbm': 3244, '07': 10, 'kuota': 1662, 'dinda': 817, 'metode': 1927, 'nasihat': 2030, 'kelastingkatan': 1493, 'campur': 635, 'ank': 310, 'gov': 1045, 'dayo': 759, 'drone': 867, 'semprit': 2690, 'chopper': 668, 'vaksinolog': 3198, 'dominasi': 850, 'berantas': 498, 'tgt': 3010, 'himbau': 1130, 'ampun': 290, 'lengking': 1740, 'presiden': 2361, 'sepakat': 2707, 'keep': 1481, '3m': 138, 'saji': 2564, 'tampil': 2923, 'tanding': 2928, 'tunduk': 3100, 'byunieel': 624}\n"
     ]
    }
   ],
   "source": [
    "print (term_fit.vocabulary_) #mengurutkan berdasarkan urutab abjad kata "
   ]
  },
  {
   "cell_type": "code",
   "execution_count": 43,
   "id": "03e55bda",
   "metadata": {},
   "outputs": [
    {
     "name": "stdout",
     "output_type": "stream",
     "text": [
      "['01', '0102', '011', '01purworejo', '02', '0302', '0432022', '06', '06032021', '0632022', '07', '07032022', '0723', '0727', '074', '08', '08001200', '080322', '0819', '081905', '0900', '10', '100', '1000', '1003227', '100997', '1026732', '106', '10769', '10997', '10hari', '10x', '11', '1100', '11035', '1194', '12', '1200', '12046742', '123', '12310', '123by', '12az', '130', '1300', '1330', '13334', '13jt', '14', '140908', '141601katobu', '141604kabawo', '144', '146305278', '1465', '146577204', '147', '1478', '147858311', '14802', '14984241', '15', '1500533', '1501', '15017166', '150901', '163', '163040', '163829', '17', '18', '1800', '182', '184', '18jt', '19', '191', '192', '1970an', '198', '1982', '19indonesia', '1april2022yb', '1bln', '1st', '1x24', '20', '2017', '2018', '2019', '2020', '2021', '2022', '2022young', '2023', '2024', '203986', '208', '208265720', '20an', '21', '21307', '22', '22927098', '23', '230', '232022', '23203753', '23az', '24', '24218796', '24226972', '24248279', '24259048', '2454', '2463', '25', '2500', '25000000', '252', '26', '265', '2659', '2661', '2663', '2665', '26705490', '275rbx2', '28', '283', '289', '29', '2g3g', '30000', '309', '323', '35', '370', '3m', '3s', '3selalu', '3w', '40150', '42', '432022', '44', '440', '469', '470', '471', '511', '528', '53', '532022', '55', '56', '5601', '57', '5g', '5m', '60', '60000', '612', '637', '64', '65', '67', '67672349', '6773', '67731132', '6878', '70', '7025', '7038', '711', '722022', '73', '732022', '7343', '7662', '78', '7days', '7hb', '80', '800', '8176', '82', '84', '85', '90', '902', '9085', '91', '92', '95', '96', '970000', '974', '98', '9838', '986', '99', 'aaaa', 'aamiinn', 'aaminn', 'abah', 'abai', 'abdi', 'abul', 'acara', 'aceh', 'ada', 'ada2', 'adacm', 'adad', 'adalah', 'adaptasi', 'adelia', 'adik', 'adil', 'admin', 'administrasi', 'administration', 'advers', 'adverse', 'aefi', 'after', 'ag4ever', 'agam', 'agama', 'agar', 'agenda', 'agens', 'agung', 'agus', 'ah', 'ahli', 'ahmad', 'aih', 'aiptu', 'air', 'airlangga', 'aj', 'ajaib', 'ajak', 'ajal', 'ajar', 'aju', 'akal', 'akan', 'akhbar', 'akhir', 'akhir2', 'akibat', 'akp', 'akselarasi', 'akselerasi', 'akselerator', 'akses', 'aktif', 'aktifitas', 'aku', 'aladin', 'alam', 'alamat', 'alami', 'alas', 'alat', 'alex', 'alhamadulillah', 'alhamdulilah', 'alhamdulillah', 'alias', 'allah', 'allahu', 'alokasi', 'alternatif', 'alun', 'am', 'amal', 'aman', 'amarga', 'amarrul', 'amatin', 'ambil', 'ambruk', 'amerika', 'amin', 'ampg', 'ampuh', 'ampun', 'amzad', 'an', 'anak', 'ancam', 'anda', 'andal', 'aneh', 'aneksasi', 'anggap', 'anggota', 'angka', 'angkasa', 'angkasacari', 'angkat', 'angkut', 'angsur', 'anies', 'anjir', 'anjur', 'ank', 'anms', 'anosmia', 'antan', 'antar', 'anti', 'antibodi', 'antigen', 'antimasker', 'antisipasi', 'antre', 'antri', 'antusias', 'apa', 'apalgi', 'aparat', 'apartment', 'apd', 'api', 'aplikasi', 'apps', 'apresiasi', 'aprian', 'april', 'arab', 'arah', 'aral', 'ardana', 'aren', 'armin', 'arti', 'artikel', 'artis2', 'as', 'asa', 'asal', 'asi', 'asia', 'asih', 'asik', 'asing', 'asli', 'astrazeneca', 'asuransi', 'asyik', 'atas', 'ati', 'atur', 'atus', 'aula', 'awak', 'awal', 'awal2', 'awam', 'awan', 'awani745', 'aware', 'awat', 'ayah', 'ayat', 'ayo', 'ayok', 'ayol', 'ayoo', 'ba', 'ba1', 'ba2', 'babi', 'babinkamtibmas', 'babinsa', 'baby', 'baca', 'bacan', 'badan', 'badminton', 'badui', 'baduy', 'bagai', 'bagaimana', 'bagi', 'bagor', 'bagus', 'bahagia', 'bahak', 'bahan', 'baharu', 'bahas', 'bahawa', 'bahaya', 'bahkan', 'baik', 'baju', 'bakar', 'bakung', 'bal', 'balai', 'balak', 'baliho', 'balik', 'balit', 'ban', 'band', 'bandar', 'bandara', 'banding', 'bandingin', 'banget', 'bangka', 'bangkai', 'bangkal', 'bangkang', 'bangkit', 'bangsa', 'bangsul', 'bangun', 'banjar', 'banjir', 'bank', 'bansos', 'bantaeng', 'bantah', 'banten', 'banter', 'bantu', 'bantur', 'banyak', 'banyumas', 'banyuroto', 'bapak', 'barai', 'baraisymptoms', 'barang', 'barangkali', 'barat', 'barelang', 'bareng', 'baru', 'baru2', 'batadi', 'batal', 'batam', 'batas', 'batman', 'batu', 'batujala', 'batuk', 'bau', 'bawa', 'bawah', 'bayang', 'bayar', 'bayi', 'bayi2', 'bazar', 'bbpom', 'bdan', 'bday', 'be', 'bebal', 'bebas', 'bebatiran', 'beda', 'bedebah', 'before', 'begitu', 'bekal', 'bekas', 'bekerjasama', 'beku', 'bela', 'belah', 'belanja', 'beli', 'belum', 'ben', 'benah', 'benar', 'bencana', 'benda', 'bener', 'bengkulu', 'bensin', 'bentar', 'bentuk', 'berangan', 'berangkat', 'berangsang', 'berani', 'berantas', 'berapa', 'berat', 'berbayar7', 'berfikir', 'berhala', 'beri', 'berita', 'beritamusi', 'berkesandos', 'bermedsos', 'bernamaklik', 'bersih', 'bersin', 'bertanya2', 'berturutturut', 'besar', 'best', 'betulbolehkah', 'bg', 'bh', 'bhabinkamtibmas', 'bhayangkara', 'bhayangkari', 'bhdunia', 'bhw', 'biar', 'biasa', 'biaya', 'bicara', 'bid', 'bidang', 'bijak', 'bikin', 'bilang', 'bill', 'bin', 'bina', 'bincang', 'binda', 'bingung', 'bini', 'binmas', 'binsar', 'bintara', 'bintik', 'biologi', 'biontech', 'biotech', 'biotis', 'bipolar', 'biru', 'bisa', 'bisimillah', 'bisnis', 'bitung', 'bkn', 'bla', 'blg', 'blm', 'bln', 'blog99', 'blokir', 'bm', 'bnpt', 'boat', 'bocah', 'bodoh', 'bodong', 'bohong', 'bola', 'bolak', 'bole', 'boleh', 'bontonompo', 'booster', 'boostervaksin', 'bor', 'bos', 'boster', 'boys', 'bpjs', 'bpom', 'bpomri', 'breaking', 'bredel', 'breng', 'bridle', 'brigadir', 'brimob', 'brimobda', 'bripka', 'bruce', 'brunei', 'bsi', 'bsidemi', 'bsvc', 'btc', 'btolkan', 'btw', 'buang', 'buat', 'budhi', 'budi', 'bugar', 'buka', 'bukan', 'bukankah', 'bukit', 'bukti', 'buku', 'bulan', 'bulungan', 'bumi', 'bumn', 'bunga', 'bunuh', 'bupati', 'buruk', 'buta', 'butarbutar', 'butir', 'butuh', 'by', 'bye', 'byram', 'byunieel', 'cabut', 'cacar', 'cahaya', 'cair', 'cakap', 'cakep', 'cakup', 'calon', 'camat', 'campak', 'campur', 'candi', 'cansinobio', 'capai', 'cape', 'cara', 'care', 'cari', 'catat', 'ccelerate', 'cdc', 'cegah', 'cek', 'ceko', 'celah', 'celaka', 'cenderung', 'cendol', 'cengkih', 'center', 'centre', 'cepat', 'cer', 'cerdik', 'cerenti', 'cerita', 'cetak', 'ch', 'chain', 'channel', 'check', 'china', 'chip', 'chopper', 'cidera', 'cikeusal', 'cinta', 'cipeng', 'cipta', 'ciri2', 'cis', 'cisimeut', 'citf', 'cium', 'civil', 'co', 'coba', 'cocok', 'code', 'college', 'com', 'coming', 'comirnaty', 'conet', 'contoh', 'corona', 'coronavac', 'coronavirus', 'corvax', 'cov', 'covid', 'covid19', 'covid19aku', 'covid19disamping', 'covid6', 'covidada', 'covidiots', 'covidn', 'covidsaya', 'covidudah', 'credit', 'cryptos', 'ct', 'cuaca', 'cuan', 'cuba', 'cuci', 'cucuk', 'cukai', 'cukup', 'cuma', 'cuplik', 'customs', 'cuti', 'cv', 'dada', 'dadah', 'daerah', 'daftar', 'dagang', 'dahak', 'dahlia', 'dahsyat', 'dahulu', 'dajjal', 'dakwa', 'dalil', 'damai', 'dampak', 'damping', 'dan', 'dana', 'dania', 'danny', 'danshare', 'dapat', 'dar', 'darah', 'darat', 'dari', 'darimana', 'dariono', 'darurat', 'dasamuka', 'dasar', 'data', 'datang', 'datar', 'datuk', 'daulat', 'daulay', 'daun', 'davos19', 'daya', 'dayo', 'deadly', 'decision', 'defencetp', 'definisi', 'deh', 'dek', 'dekat', 'delapan', 'delta', 'demam', 'demi', 'demikian', 'demo', 'deng', 'dengan', 'dengar', 'depan', 'departemen', 'deret', 'derita', 'derma', 'desa', 'desas', 'design', 'desperation', 'desus', 'detasemen', 'deteksi', 'detik', 'dewan', 'dewasa', 'dewintha', 'df', 'dgdgd', 'dgf', 'di', 'dia', 'diabetes', 'dialog', 'diam', 'dian', 'dibanten', 'didapet', 'didelete', 'didik', 'diem', 'digital', 'digjaya', 'dih', 'dihimbau', 'dihoaks', 'dikemaskini', 'diktator', 'dilaksanakancuman', 'dimana2', 'din', 'dinas', 'dinda', 'dingin', 'dinihari', 'dinkes', 'dinytakan', 'dio', 'dipindahin', 'diponegoro', 'direktur', 'diri', 'disease', 'dishare', 'disiapin', 'disiplin', 'diskominfo', 'distribusi', 'diswab', 'ditakutin', 'ditlantas', 'divalidasi', 'diy', 'dj', 'djkajdkajkd', 'dki', 'dllini', 'dlu', 'dn', 'dna', 'doa', 'dokter', 'dokumen', 'dolok', 'domestik', 'dominasi', 'donasi', 'door', 'dorong', 'dory', 'dos', 'dosa', 'dosen', 'dosis', 'double', 'dpr', 'dprd', 'dprnya', 'drama', 'dri', 'dripada', 'drive', 'drone', 'drop', 'droplet', 'drug', 'dtg', 'dua', 'dubes', 'duduk', 'duga', 'duh', 'dukung', 'duluan', 'duluin', 'dulur', 'dumai', 'dunia', 'duniawi', 'duri', 'dysaniaa', 'edar', 'edi', 'edisi', 'edit', 'edukasi', 'efek', 'efektif', 'efektifitas', 'efektifvaksin', 'efektivitas', 'eh', 'ehwal', 'eijkman', 'eindee', 'ejek', 'ek', 'ekonomi', 'eks', 'eksklusif', 'elak', 'email', 'emajalah', 'emang', 'embel2', 'empat', 'en', 'ena', 'enak', 'endemi', 'endemic', 'endemicperatus', 'endemik', 'enemy', 'energi', 'enih', 'ent', 'enzim', 'era', 'erick', 'error', 'erti', 'esdm', 'esok', 'ethyl', 'eua', 'experimental', 'expos', 'facebook', 'fakta', 'faktor', 'family', 'fanatik', 'fantasi', 'fasa', 'fase', 'fasyankes', 'fatal', 'fatwa', 'fda', 'feb', 'febr', 'februari', 'fenomena', 'fighter', 'film', 'firdaus', 'firdausst', 'fire', 'first', 'fitnah', 'fitri', 'flash', 'fleksibel', 'florida', 'flu', 'fmt', 'fokus', 'food', 'formula', 'forum', 'foto', 'frasa', 'free', 'from', 'fuck', 'fucks', 'fucksintop', 'full', 'fully', 'fungsi', 'fyi', 'gabener', 'gabus', 'gading', 'gagal', 'galak', 'game', 'gampang', 'ganas', 'gangga', 'ganggeng', 'ganggu', 'ganti', 'gantung', 'gap', 'gapapa', 'gara', 'garda', 'garis', 'gas', 'gatal', 'gates', 'gaul', 'gauri', 'gawat', 'gawe', 'gaya', 'ge', 'geber', 'gedung', 'gegana', 'gegara', 'geger', 'gejala', 'gel', 'gelar', 'gelombang', 'gembira', 'gencar', 'gencarin', 'generasi', 'genetika', 'genjot', 'genose', 'gentayang', 'gera', 'gerai', 'gerbang', 'gergasi', 'getar', 'geus', 'giat', 'gibran', 'giftnya', 'gila', 'gila2', 'gilir', 'gin', 'girang', 'gitu', 'global', 'gmn', 'god', 'gogog', 'golong', 'goncang', 'google', 'goreng', 'gorontalo', 'gov', 'gowa', 'gp', 'grafik', 'grati', 'gratis', 'group', 'gsp', 'gt1', 'gt70apa', 'gt90', 'gubernur', 'gudang', 'gue', 'gugur', 'gugus', 'guk', 'gula', 'guling', 'guna', 'gunanta', 'gus', 'guys', 'gym', 'habib', 'habis', 'had', 'hadap', 'hadir', 'hahaha', 'hahahaha', 'hai', 'haihh', 'hajar', 'haji', 'hal', 'halal', 'halaman', 'halau', 'halmahera', 'halo', 'halus', 'ham', 'hamba', 'hamdulillah', 'hamil', 'hana', 'hanafi', 'hanat', 'hand', 'hang', 'hanya', 'hapus', 'harap', 'harfiah', 'harga', 'hari', 'harini', 'haritu', 'harlah', 'hartarto', 'harus', 'hasan', 'hashim', 'hashimartikel', 'hasil', 'hastuti', 'hasut', 'hati', 'hatta', 'hco', 'health', 'hebat', 'henti', 'hepatitis', 'heran', 'herba', 'heryanto', 'hg', 'hibur', 'hidung', 'hidup', 'hijau', 'hijaunah', 'hilang', 'himbau', 'himbauan', 'hindar', 'hingga', 'hitam', 'hiv', 'hk', 'hlbk', 'hmmm', 'hold', 'hollywood', 'homolog', 'horka', 'hormat', 'hotel', 'hp081511342000', 'hp089683497957', 'hr', 'hrt', 'hse', 'hso', 'https', 'hub', 'hubung', 'huft', 'hujah', 'hukum', 'hulu', 'humanis', 'humas', 'humaspoldasulut', 'hungposisi', 'hutang', 'hw', 'hyo', 'iaitu', 'ibadah', 'ibu', 'icu', 'id', 'idcc', 'idcorner', 'idiot', 'idol', 'idol3', 'idpi', 'idul', 'ignorance', 'ii', 'iib', 'iii', 'ikan', 'ikat', 'ikhtiar', 'ikut', 'ilang', 'ilmu', 'ilmuwan', 'imam', 'iman', 'imbau', 'immunitysayangi', 'immunnya', 'imperial', 'imun', 'imunekan', 'imunisasi', 'imunitas', 'imunitasn', 'imunologi', 'imuntas', 'in', 'inactivated', 'inap', 'incase', 'indera', 'india', 'individu', 'indo', 'indodikiranya', 'indonesia', 'indonesianewnormal', 'indoposco', 'indraprasta', 'industri', 'infeksi', 'inflasi', 'info', 'infografis', 'informasi', 'informasi8', 'informatika', 'infovaksin', 'ingat', 'inggris', 'ingin', 'inhu', 'ini', 'iniaku', 'inidemam', 'iniemang', 'inisalah', 'inovasi', 'inpres', 'insecure', 'insentif', 'inshaallah', 'instagram', 'int', 'intai', 'intan', 'integrasi', 'integritas', 'intelejen', 'intelijen', 'intelkam', 'interval', 'intimidasi', 'invasi', 'investasi', 'iow', 'iphone', 'iri', 'iring', 'ish', 'islam', 'isolasi', 'isoma', 'isoman', 'isomanan', 'isreal', 'isteri', 'istilah', 'istimewa', 'istirahat', 'istri', 'isu', 'iswanda', 'item', 'iton', 'itu', 'iv', 'ivermectin', 'ivm', 'iya', 'iyaa', 'izin', 'ja', 'jab', 'jabar', 'jabat', 'jadi', 'jadwal', 'jae', 'jaga', 'jagat', 'jahanam', 'jailolo', 'jais', 'jajar', 'jakamulya', 'jakarta', 'jaki', 'jal', 'jalahoaks', 'jalan', 'jalin', 'jalur', 'jam', 'jaman', 'jambi', 'jamin', 'jangan', 'jangka', 'jangkar', 'jangkit', 'janji', 'jantung', 'januari', 'japen', 'jarak', 'jarang', 'jaring', 'jarsos', 'jarum', 'jatah', 'jateng', 'jati', 'jatim', 'jatimpemprov', 'jatimtanggapcovid19', 'jatisampurna', 'jawab', 'jawara', 'jawat', 'jaya', 'jayapura', 'jebkn', 'jelang', 'jelas', 'jelas2', 'jemaah', 'jemput', 'jendela', 'jenis', 'jerman', 'jerr', 'jeruk', 'jga', 'ji', 'jika', 'jilid', 'jim', 'jinak', 'jiwa', 'jkn', 'jkt', 'jl', 'jn', 'jngn', 'jogja', 'jogorogo', 'johnny', 'johnson', 'johor', 'joker', 'jokowi', 'jom', 'jual', 'juara', 'jubir', 'judul', 'juga', 'jujur', 'julang', 'juli', 'jumaat', 'jumat', 'jumlah', 'jumpa', 'junedi', 'juni', 'jurnal', 'juru', 'jurus', 'juta', 'ka', 'kab', 'kabanyakn', 'kabar', 'kabaroto', 'kabkota', 'kabpemalang', 'kabupaten', 'kaca', 'kacau', 'kadaluarsa', 'kadar', 'kadinkes', 'kadiv', 'kaedah', 'kagak', 'kaget', 'kah', 'kahak', 'kahga', 'kai', 'kait', 'kaji', 'kak', 'kakak', 'kakmohon', 'kalah', 'kalang', 'kalau', 'kalaupun', 'kali', 'kalian', 'kalian2', 'kalimantan', 'kalimat', 'kalong', 'kalsel', 'kaltara', 'kaltim', 'kamaruddin', 'kami', 'kamil', 'kamis', 'kampanye', 'kampung', 'kampus', 'kamu', 'kamus', 'kanada', 'kanak', 'kanak2', 'kanan', 'kandang', 'kandung', 'kang', 'kanker', 'kantor', 'kanwil', 'kanya', 'kapal', 'kapanewon', 'kapasitas', 'kapasiti', 'kapolsek', 'kapuas', 'karakter', 'karang', 'karanganyar', 'karantina', 'kareem', 'karena', 'karir', 'kartini', 'kartu', 'karuan', 'karya', 'karyawan', 'karyawannya', 'kasablanka', 'kasat', 'kasi', 'kasih', 'kasus', 'kata', 'kategori', 'katil2', 'kaum', 'kawal', 'kawan', 'kawan2', 'kawasan', 'kaya', 'kayak', 'kbetulan', 'ke', 'ke2', 'ke99', 'kebal', 'kebon', 'kebut', 'kec', 'kece', 'kecsenen', 'kecuali', 'kedah', 'keep', 'keerom', 'kejam', 'kejang', 'kejar', 'kejut', 'kekal', 'kel', 'kelamin', 'kelapa', 'kelar', 'kelas', 'kelastingkatan', 'kelbontoramba', 'kelgmalangvaksin', 'keliling', 'kelinci', 'kelola', 'kelompok', 'keluar', 'keluarga', 'keluh', 'kemaren', 'kemarin', 'kemas', 'kembali', 'kembang', 'kemen', 'kemenag', 'kemendag', 'kemenhub', 'kemenkes', 'kemenkumham', 'kemensos', 'kemiri', 'kena', 'kenal', 'kenang', 'kenapa', 'kendal', 'kendali', 'kendara', 'kendiri', 'kendor', 'kepa', 'kepala', 'kerah', 'keras', 'keraton', 'kerepot', 'kereta', 'keri', 'kerja', 'kerjasama', 'kerumun', 'kes', 'kesan', 'kesejahtraan', 'kesihatan', 'kesini', 'ketat', 'ketemu', 'ketik', 'ketua', 'kewajipan', 'khafid', 'khairy', 'khas', 'khasiat', 'khatib', 'khawatir', 'khusus', 'kian', 'kids', 'kini', 'kini360', 'kira', 'kiri', 'kirim', 'kisah', 'kita', 'kite', 'kits', 'kj', 'kk', 'kkp', 'kkpa', 'klaim', 'klaten', 'klik', 'klinik', 'klinis', 'klm', 'klw', 'kmudian', 'ko', 'koar', 'kobar', 'kodam', 'kodim', 'koko28', 'kolaborasi', 'kolot', 'komen', 'komentar', 'kominfo', 'komitmen', 'komobid', 'komorbid', 'kompak', 'kompas', 'komplikasi', 'komputer', 'komsos', 'komunikasi', 'konawe', 'kondisi', 'konferensi', 'konfirmasi', 'konglomerat', 'konklusi', 'konsekuensi', 'konsen', 'konsisten', 'konspirasi', 'konstruksi', 'konsumen', 'kontak', 'konteks', 'konten', 'kontenjohnny', 'kontra', 'kontribusi', 'kontrol', 'koordinator', 'kopda', 'kopi', 'kopit', 'koramil', 'koran', 'korban', 'koreksi', 'korelasi', 'korem', 'korsel', 'korup4', 'kota', 'kp', 'kpn', 'kramat', 'kreatifkreatif', 'kredibel', 'kredibilitas', 'kribo', 'krimea', 'kriminal5', 'kriteria', 'kritik', 'kritikal', 'krl', 'ktp', 'kualalumpur', 'kualitas', 'kuarantin', 'kuarintin', 'kuasa', 'kuat', 'kuatada', 'kubu', 'kuching', 'kudu', 'kukuh', 'kulit', 'kulon', 'kumham', 'kumpul', 'kumulatif', 'kunci', 'kuning', 'kunjang', 'kunjung', 'kuota', 'kurang', 'kurniadi', 'kusuma', 'kutip', 'kwitang', 'la', 'laa', 'lab', 'label', 'labih', 'labuh', 'ladang', 'lagi', 'lah', 'lahh', 'lahir', 'lain', 'lain2', 'laju', 'laki', 'laksana', 'laku', 'lalai', 'lalu', 'lalusaya', 'lama', 'lamar', 'lambat', 'lampau', 'lampir', 'lampost', 'lampung', 'lampungpost', 'lancang', 'lancar', 'landai', 'langka', 'langkah', 'langkat', 'langsung', 'lanjut', 'lansia', 'lantai', 'lantar', 'lantas', 'lantik', 'laode', 'lapang', 'lapas', 'lapis', 'lapor', 'larang', 'lari', 'latar', 'laut', 'lawak', 'lawan', 'layan', 'layar', 'lebak', 'lebih', 'leceh', 'lega', 'lekas', 'lelah', 'lelang', 'leluasa', 'lem', 'lemah', 'lembaga', 'lembur', 'lembuswana', 'lembut', 'lencana', 'lengah', 'lengan', 'lengkap', 'lengking', 'lepas', 'lepasaku', 'lepuh', 'les', 'lestari', 'leuwidamar', 'level', 'lewat', 'lho', 'lhobooster', 'liar', 'liat', 'liatin', 'libas', 'libat', 'lidah', 'lihat', 'lil', 'lillahi', 'limbah', 'lindung', 'lingkung', 'link', 'linmas', 'lintang', 'lintas', 'linu', 'liput', 'listeners', 'lithium', 'liya', 'lo', 'loa', 'lodaya', 'logika', 'logo', 'loh', 'lohh', 'lohia', 'lokasi', 'london', 'long', 'longgar', 'lonjak', 'lontar', 'lor', 'louis', 'lowong', 'lpdp', 'lpk', 'lt25', 'ltd', 'luar', 'luas', 'luc', 'lucu', 'luhut', 'luka', 'lulus', 'lumas', 'lumayan', 'lumpuh', 'lupa', 'lur', 'lurah', 'lurus', 'maaf', 'maba', 'mac', 'macron', 'madu', 'mafia', 'mah', 'maha', 'mahal', 'mahasiswa', 'mahkamah', 'main', 'majelis', 'majoriti', 'maju', 'mak', 'maka', 'makan', 'makassar', 'maki', 'makin', 'maklum', 'mako', 'maksimal', 'maksud', 'mal', 'malam', 'malamjust', 'malang', 'malas', 'malaysia', 'males', 'malinau', 'mall', 'malu', 'malut', 'mampu', 'mana', 'manakala', 'mandalika', 'mandat', 'mandatory', 'mandotary', 'manfaat', 'mangsa', 'manipulasi', 'manjur', 'manual', 'manusia', 'marah', 'marang', 'maret', 'mari', 'maritim', 'marves', 'mas', 'masak', 'masal', 'masalah', 'masih', 'masihul', 'masing2', 'masjid', 'masker', 'massal', 'masuk', 'masyaallah', 'masyarakat', 'mata', 'mati', 'matiayo', 'matlast', 'mau', 'maulana', 'maulidin', 'mauttujuh', 'may', 'maya', 'maybe', 'mbak', 'mbkanak', 'media', 'medis', 'medsos', 'megah', 'meh', 'mejd', 'melaka', 'melaks', 'melarat', 'memang', 'member', 'meminimalisir', 'meminimalisirkan', 'mempan', 'menang', 'mencenggah', 'mending', 'mengcover', 'menghimbau', 'meninggoy', 'meningitis', 'menit', 'menko', 'mentang2', 'menteri', 'merah', 'mercure', 'mercury', 'mercy', 'merdeka', 'merdekaberkerumun', 'merdekaroadmap', 'merek', 'mereka', 'merespon', 'meriang', 'merk', 'mertua', 'mesti', 'metode', 'metro', 'meyebut', 'mf', 'mi', 'mikir', 'mikirnya', 'miliar', 'milih', 'milik', 'mimpi', 'min3', 'minggu', 'minimal', 'minum', 'minyak', 'miracle', 'miri', 'misc', 'miscdapatkan', 'mister', 'misterius', 'mitos', 'mitra', 'mmng', 'mnc', 'mnow', 'mobilisasi', 'mobilitas', 'moda', 'modal', 'moderna', 'moewardi', 'moga', 'mohon', 'mojokerto', 'molekular', 'molekuler', 'momentum', 'momok', 'monday', 'monggo', 'monitoring', 'montagnier', 'month', 'months', 'mood', 'more', 'morning', 'morotai', 'mosti', 'motogp', 'motor', 'mr', 'mrna', 'mt', 'mu', 'muak', 'mual', 'muda', 'mudah', 'mudah2an', 'muhammadiyah', 'muhtar', 'mui', 'muka', 'mula', 'mulai', 'mulut', 'muna', 'muncul', 'mundur', 'mungkin', 'muntah', 'murah', 'murid', 'murni', 'music', 'musik', 'musim', 'musuh', 'mutasi', 'my', 'myhealth', 'n95', 'nadia', 'naek', 'nafi', 'nahdlatul', 'nahh', 'nakes', 'nali', 'nama', 'nampak', 'nanga', 'nanggulan', 'nangkep', 'nantangin', 'nanya', 'napas', 'narasi', 'nasehat', 'nasib', 'nasihat', 'nasional', 'nawakngalam', 'nazwa', 'ndilalah', 'negara', 'negatif', 'negeri', 'negri', 'nelayan', 'nepakin', 'nerima', 'nestle', 'netizen', 'new', 'news', 'ngada', 'ngajamin', 'ngaku', 'ngambang', 'ngantri', 'ngantuk', 'ngatain', 'ngawi', 'nge', 'ngebohongi', 'ngecek', 'ngelunjak', 'ngerasa', 'ngerasain', 'ngetwit', 'ngibul', 'ngikut', 'ngobrol', 'ngomong', 'ngomongin', 'ngumumin', 'ngundang', 'ngurusin', 'niaga', 'niat', 'nico', 'niece', 'nikmat', 'nilai', 'nipadahal', 'nirlogika', 'nisa', 'nkfvindanindicoid', 'nkri', 'noah', 'nomor', 'non', 'nongkrong', 'norma', 'normal', 'normalitas', 'norwegia', 'now', 'npra', 'ntah', 'ntb', 'nth', 'ntt', 'nunda', 'nunggu', 'nunukan', 'nurani', 'nurdin', 'nusantara', 'nya', 'nyalahin', 'nyamain', 'nyaman', 'nyanyi', 'nyata', 'nyawa', 'nyebar', 'nyebelin', 'nyeri', 'nyuruh', 'obat', 'obedience', 'obral', 'ode', 'odgj', 'ofc', 'officer', 'official', 'offsite', 'oh', 'ojek', 'ojol', 'ok', 'okay', 'oke', 'oknum', 'oksigen', 'oku', 'olahraga', 'oleh', 'om', 'oma', 'omicron', 'omipret', 'omong', 'online', 'opa', 'operasi', 'ops', 'optimal', 'optimis', 'opung', 'or', 'oral', 'orang', 'orangtua', 'org2nya', 'organ', 'organisasi', 'organization', 'organizer', 'original', 'ormas', 'oscars', 'osman', 'otomatis', 'otomotif', 'otonews', 'otot', 'otoupdate', 'otw', 'outfit', 'overload', 'oxycan', 'pa', 'pabbundukang', 'pabrik', 'pada', 'padahal', 'padang', 'padat', 'padu', 'pagaruyung', 'pagi', 'paham', 'pahang', 'pahlawan', 'pakai', 'pakar', 'pakar2', 'paksa', 'palabuhan', 'palaksanaan', 'palangka', 'paling', 'palsu', 'palu', 'pamer', 'pamtas', 'pamudji', 'panas', 'pandai', 'pandan', 'pandemi', 'pandemik', 'pandjaitan', 'pangkal', 'pangsapuri', 'panik', 'panjaitan', 'panjang', 'pantai', 'pantau', 'pantes', 'papan', 'papar', 'papdi', 'paper', 'papua', 'paracetamol', 'parah', 'parents', 'pariaman', 'parigi', 'park', 'parlimen', 'parpol', 'partai', 'partaonan', 'paru', 'paru2', 'pasar', 'pasca', 'pasien', 'paska', 'paspor', 'pasrah', 'pass', 'pasti', 'pasu', 'pasuk', 'pasuruan', 'pati', 'patriot', 'patuh', 'patut', 'pawanratkomarwut', 'paya', 'payah', 'pcare', 'pecat', 'peduli', 'pegal', 'pegawai', 'pegel2', 'pekan', 'pekanbaru', 'pekayon', 'pelan', 'pelda', 'pelihara', 'peluang', 'pematang', 'pemberitahuan', 'pembohong3', 'pemda', 'penasaran', 'pengaruh', 'penting', 'penuh', 'per', 'perak', 'peran', 'perancis', 'perang', 'peras', 'percaya', 'perempuan', 'pergi', 'perih', 'periksa', 'perilaku', 'peringkat', 'perintah', 'peristiwa', 'perit', 'perkara', 'perlu', 'permanen', 'permisi', 'perna', 'pernah', 'persen', 'persentase', 'personel', 'personil', 'pertiwi', 'pesawat', 'petaling', 'peti', 'petikemas', 'pfizer', 'pfizers', 'ph', 'pharmaceuticals', 'philippines', 'picagari', 'picu', 'pihak', 'pikir', 'pikirin', 'piko', 'pil', 'pilek', 'pilih', 'pilpres', 'pimpin', 'pinggir', 'pintar', 'pintu', 'pisah', 'piy', 'pjj', 'pk', 'pkl', 'pkm', 'plate', 'platform', 'please', 'pls', 'plus', 'pm', 'png', 'polairud', 'polda', 'poliklinik', 'polio', 'polisi', 'politik', 'polres', 'polresta', 'polri', 'polsek', 'polymerase', 'pom', 'poor', 'populasi', 'populer', 'pos', 'posisi', 'positif', 'post', 'posting', 'posttonsillectomy', 'potensi', 'potong', 'pound', 'power', 'ppdb', 'ppenghapus', 'ppkm', 'ppln', 'ppv', 'ppvn', 'praktis', 'prank', 'prasetiyo', 'prediksi', 'premier', 'premis', 'presiden', 'presisi', 'pribadi', 'primer', 'prioritas', 'prizer', 'prn', 'pro', 'produk', 'produksi', 'produsen', 'prof', 'progo', 'program', 'progres', 'projek', 'prokes', 'prosedur', 'protein', 'proteksi', 'protokol', 'prov', 'provinsi', 'provokasi', 'psl', 'pst', 'pt', 'ptsb', 'puak', 'puas', 'puasa', 'puja', 'puji', 'pukul', 'pulang', 'pulau', 'pulayg', 'pulih', 'puluh', 'pun', 'puncak', 'pungli', 'pungut', 'purba', 'purboyo', 'purwakarta', 'purwokerto', 'purworejo', 'pusat', 'pusbang', 'pusing', 'pusk', 'puskesmas', 'puslatpurmar4', 'putar', 'putih', 'putri', 'putus', 'qadrun', 'qr', 'rabu', 'radang', 'radius', 'ragu', 'raih', 'raja', 'rajalela', 'rak', 'raksatama', 'rakus', 'rakyat', 'rakyatroslan', 'rakyatsyamsuar', 'ramadan', 'ramadhan', 'ramah', 'ramai', 'ramal', 'rambut', 'rambutan', 'ramli', 'rampai', 'rampd', 'rang', 'rangka', 'rangkum', 'rangsang', 'rantai', 'rapat', 'rapi', 'rapid', 'rara', 'rasa', 'rasai', 'rasiro', 'rasmi', 'rata', 'ratu', 'ratus', 'rawat', 'raya', 'razia', 'reaction', 'read', 'ready', 'real', 'rebak', 'rebus', 'rebut', 'receive', 'regimen', 'regulator', 'reguler', 'rekan', 'rekomendasi', 'rektorat', 'rela', 'reliable', 'remaja', 'remeh', 'remehin', 'remuk', 'rencana', 'rendah', 'rentan', 'reporter', 'reposted', 'republik', 'required', 'residensi', 'resiko', 'resmi', 'restoran', 'revisi', 'rezeki', 'rezim', 'rf', 'rhi', 'ri', 'riau', 'ribet', 'ribu', 'ribut', 'richi', 'rico', 'ridwan', 'rileks', 'rilis', 'rimusthoful', 'rinciannya', 'ringan', 'risau', 'risiko', 'ristianto', 'riwayat', 'riyanto', 'rki', 'rks', 'rm1000', 'rm34', 'rmid', 'robby', 'rontok', 'rs', 'rsjd', 'rsjdsurakarta', 'rsu', 'rsud', 'rsup', 'rt', 'rtk', 'rtm', 'rtmc', 'ruang', 'rugi', 'rujuk', 'rukun', 'rumah', 'rumkit', 'rusa', 'rusak', 'russia', 'rustandi', 'rutan', 'rute', 'rutinitas', 'ruwetnesia', 'rw', 's1', 's2', 'sabar', 'saber', 'sabtu', 'sabun', 'sachet', 'sadar', 'sah', 'sahabat', 'sahaja', 'sahih', 'sains', 'saintis', 'saja', 'saji', 'sakit', 'sakor', 'saksi', 'salah', 'salam', 'salapian', 'saleh', 'salep', 'salero', 'saling', 'salur', 'sama', 'samarinda', 'sambang', 'sambung', 'sambut', 'samosir', 'sampai', 'samping', 'sample', 'sampurasun', 'san', 'sana', 'sanana', 'sanda', 'sandiwara', 'sang', 'sangat', 'sanggau', 'sangka', 'sangkut', 'sanit', 'sanitizer', 'santa', 'sanur', 'sapu', 'saraf', 'sarah', 'saran', 'sarana', 'sarawak', 'sarip', 'saroyo', 'sars', 'sasar', 'saski', 'sat', 'satbrimob', 'satgas', 'satlantas', 'satpas', 'satu', 'saturasi', 'saudagar', 'saudara', 'saudi', 'sauya', 'sawang', 'sawangan', 'saya', 'sayang', 'scara', 'schedule', 'science', 'scientific', 'scientist', 'screenshot', 'sd', 'sdm', 'sdn', 'sebab', 'sebar', 'sebarang', 'sebenernya', 'seblm', 'sebut', 'sedang', 'sedau', 'sedia', 'sedih', 'sedikit', 'segala', 'segara', 'segera', 'sehat', 'sejabodetabek', 'sejahtera', 'sekali', 'sekarang', 'sekarangsihatbersama', 'sekdes', 'sekitar', 'seko', 'sekolah', 'sekolahaku', 'sekte', 'sel', 'selagi', 'selain', 'selalu', 'selamat', 'selangor', 'selasa', 'selatan', 'selenggara', 'selesai', 'self', 'selfi', 'selsema', 'selubung', 'semalamberita', 'semangat', 'semangatin', 'sembah', 'sembako', 'sembari', 'sembilan', 'sembuh', 'sembuhambil', 'sembur', 'semenjak', 'sementara', 'sempaja', 'sempat', 'sempet', 'semprit', 'semprot', 'semput', 'semua', 'semut', 'senang', 'sendri', 'sengaja', 'seni', 'senin', 'sensitif', 'sentiasa', 'sentimen', 'sentra', 'sentuh', 'seok', 'sepak', 'sepakat', 'seperti', 'sepuh', 'seragam', 'serah', 'serakah', 'serama', 'serambi', 'serang', 'serba', 'serbu', 'serda', 'serentak', 'serikat', 'serius', 'serka', 'serpong', 'serta', 'sertif', 'sertiffikat', 'sertifikat', 'sertu', 'seru', 'serviks', 'sesak', 'sesal', 'sesuai', 'setia', 'setor', 'severe', 'sh', 'shaf', 'shah', 'shalat', 'sheeps', 'shmm', 'sholat', 'sholeh', 'should', 'si', 'sia', 'siahaan', 'siang', 'siap', 'siar', 'sibuhuan', 'sibuk', 'sickny', 'sidomulyo', 'sigap', 'signifikan', 'sih', 'sii', 'sijil', 'sikap', 'sikit', 'siksa', 'sila', 'silah', 'siluman', 'sim', 'simak', 'simpan', 'simpanse', 'simpul', 'sinar', 'sindir', 'sindrom', 'sinergitas', 'singgah', 'sini', 'sinopharm', 'sinovac', 'sinovacdosis', 'sintas', 'sintom', 'sinyal', 'sisi', 'sisip', 'sistem', 'siswa', 'siti', 'situ', 'situbon', 'situbondo', 'situs', 'sk', 'skarang', 'skrang', 'slemanis', 'sm', 'smart', 'smpai', 'smpe', 'smssolat', 'soal', 'sobat', 'sobatnet', 'soebandrio', 'soekarno', 'sokong', 'solat', 'solo', 'solusi', 'something', 'son', 'song', 'songjihyo', 'soon', 'sore', 'sorg', 'sosial', 'sosialisasi', 'soyo', 'speed', 'speedboat', 'speedboatreguler', 'spertinya', 'spesial', 'spike', 'spikes', 'spirtus', 'sri', 'sridiana3va', 'ss', 'stabilizer', 'staf', 'staffkualifikasi', 'stage', 'standar', 'standard', 'status', 'stempel', 'steril', 'stop', 'stopmandatoy', 'stopwajibvaksinanak', 'strategis', 'stres', 'stress', 'studi', 'su', 'suami', 'suara', 'subjek', 'subvarian', 'suci', 'suda', 'sudah', 'sudirman', 'suhaila', 'suhu', 'suka', 'sukabumi', 'sukses', 'suku', 'sulit', 'sulsel', 'sultra', 'sumaid', 'sumbang', 'sumbar', 'sumber', 'sumonggo', 'sumpek', 'sumut', 'sung', 'sungai', 'sungguh', 'sunti', 'suntik', 'supaya', 'super', 'superior', 'supermarket', 'surabaya', 'surakarta', 'suram', 'surat', 'surau', 'suri', 'suruh', 'survive', 'surya', 'susah', 'susu', 'susul', 'swab', 'swag', 'swasta', 'sweeping', 'syak', 'syamsuar', 'syarat', 'syarikat', 'syndrome', 'syukru', 'syukur', 'syuting', 'ta', 'taat', 'tagih', 'tah', 'tahan', 'tahap', 'tahu', 'tahun', 'taishan', 'takat', 'takedown', 'taksir', 'takut', 'tali', 'taliabu', 'tamak', 'tambah', 'tampil', 'tamu', 'tana', 'tanah', 'tandang', 'tanding', 'tangan', 'tangerang', 'tangga', 'tanggal', 'tangguh', 'tanggulang', 'tanggung', 'tangkal', 'tangkap', 'tangmo', 'tani', 'tanjung', 'tanpa', 'tanya', 'tao', 'tapi', 'tar', 'tara', 'target', 'targetayo', 'tarik', 'tarmizi', 'tatap', 'taurakyat', 'taurine', 'tawar', 'tayang', 'tayangin', 'tbd', 'tbtb', 'tegal', 'tegas', 'tegur', 'teh', 'tekan', 'teknologi', 'telaah', 'telah', 'telegram', 'teliti', 'tema', 'teman', 'tembus', 'temenku', 'tempat', 'tempo', 'tempoh', 'temu', 'temuwangi', 'tenang', 'tenggara', 'tenggorok', 'tentara', 'tentu', 'teori', 'ter', 'tera', 'terang', 'terap', 'teratai', 'terbang', 'terbit', 'terima', 'terinveksi', 'terjemah', 'terkiniwow', 'terminal', 'terna', 'ternate', 'tertawa', 'terterapusk', 'terteravaksinmaretsamarinda', 'tertib', 'terus', 'terusi', 'tes', 'test', 'tetangga', 'tetanus', 'tetap', 'tetiba', 'tgt', 'thankful', 'thats', 'theater', 'thing', 'thohir', 'thr', 'thru', 'tiada', 'tiap', 'tiba', 'tiba2', 'tics', 'tidak', 'tidore', 'tidung', 'tidur', 'tifa', 'tiga', 'tiket', 'tikus', 'tilang', 'tim', 'timbal', 'timbang', 'timbul', 'timesindonesia', 'timur', 'tinanggea', 'tindak', 'ting', 'tinggal', 'tinggi', 'tingkat', 'tip', 'tipes', 'tipu', 'tirta', 'tiru', 'titer', 'titik', 'tl', 'tlna', 'tmbul', 'tnipolri', 'toba', 'tobelo', 'tokoh', 'tolak', 'tolol', 'tolong', 'tongkat', 'tonton', 'top', 'total', 'tradis', 'tragis', 'training', 'transisi', 'transportasi', 'trauma', 'travel', 'treatment', 'tren', 'trend', 'trenggalek', 'tri', 'trial', 'tribun', 'trilyunan', 'trimedya', 'trs', 'trudeau', 'trus', 'tua', 'tuanku', 'tubuh', 'tuding', 'tugas', 'tuhan', 'tuju', 'tujuh', 'tular', 'tulis', 'tumbang', 'tumbuh', 'tumpang', 'tumpu', 'tunai', 'tunda', 'tunduk', 'tunggang', 'tunggu', 'tunjuk', 'tuntas', 'turis', 'turun', 'turut', 'tusuk', 'tutup', 'tuu', 'tuuu', 'tv', 'tw', 'tweeps', 'tweet', 'tweetnya', 'twit', 'twitnya', 'twitter', 'uang', 'ubah', 'ubat', 'ubatdrug', 'ubsi', 'ubud', 'ucap', 'udah', 'udara', 'udel', 'uinsi', 'uji', 'uk', 'ukraina', 'ukraine', 'ulama', 'ulang', 'ular', 'ulas', 'ultah', 'ulyl', 'umah', 'umat', 'umelindungi', 'umpat', 'umrah', 'umroh', 'umum', 'umumpls', 'umur', 'unair', 'uncover', 'undang', 'undur', 'unggah', 'unggul', 'ungkap', 'unicef', 'unit', 'universitas', 'unjung', 'untuk', 'untung', 'unvax', 'upaya', 'update', 'upp', 'upt', 'uptd', 'urine', 'urus', 'usaha', 'usai', 'useless', 'usia', 'ustadz', 'usut', 'utama', 'utara', 'utomo', 'uu6', 'vaccination', 'vaksi', 'vaksin', 'vaksin2', 'vaksin2021', 'vaksinaku', 'vaksinanak', 'vaksinasi', 'vaksinasibooster', 'vaksinasipertama', 'vaksinator', 'vaksinbooster', 'vaksinboosternya', 'vaksinjang', 'vaksinjatimbangkit', 'vaksinkedua', 'vaksinmalang', 'vaksinolog', 'vaksinpertama', 'vaksinrsjd', 'vaksinsaya', 'valid', 'varian', 'variant', 'variantnya', 'variasi', 'versi', 'via', 'viagra', 'video', 'vineeta', 'viral', 'virologi', 'virus', 'vitamin', 'vs', 'vtl', 'wa', 'waara', 'wabah', 'wabup', 'wahahahahahahahahahahahahahahahahahahahahahahahahahahahahahahahaha', 'wahyuni', 'wajar', 'wajib', 'wakil', 'walafiat', 'walaulun', 'wali', 'walikota', 'walk', 'wam', 'wanita', 'wara', 'warawiri', 'warga', 'warna', 'was', 'waspada', 'wasting', 'wates', 'wathoni', 'wayne', 'wbbm', 'wbk', 'webinar', 'website', 'weda', 'welcome', 'who', 'wib', 'wilayah', 'wings', 'wiri', 'wisata', 'wisatawan', 'with', 'wits', 'wktu', 'wkwk', 'wkwkwk', 'wlupn', 'wm', 'wonosari', 'wonwoo', 'world', 'wow', 'woy', 'wrt', 'wuhan', 'wujud', 'xbs', 'xcuba', 'xdek', 'xxi', 'ya', 'yaa', 'yaajokowi', 'yacek', 'yah', 'yahudi', 'yak', 'yakin', 'yang', 'yangpentinghalal', 'yayasan', 'yb', 'ye', 'yg', 'yokngundi', 'yonif', 'yoo', 'yoohh', 'yoojaeseok', 'yoon', 'yoonalim', 'yoonbak', 'york', 'your', 'youtube', 'yuk', 'yukbooster', 'yuktersedia', 'yuppp', 'yustisi', 'zainulexelmandiricom', 'zaman', 'zat', 'zhu', 'zikir', 'zona', 'zora']\n"
     ]
    },
    {
     "name": "stderr",
     "output_type": "stream",
     "text": [
      "C:\\Users\\ASUS\\anaconda3\\lib\\site-packages\\sklearn\\utils\\deprecation.py:87: FutureWarning: Function get_feature_names is deprecated; get_feature_names is deprecated in 1.0 and will be removed in 1.2. Please use get_feature_names_out instead.\n",
      "  warnings.warn(msg, category=FutureWarning)\n"
     ]
    }
   ],
   "source": [
    "print (term_fit.get_feature_names()) #mengurutkan berdasarkan urutkan nama "
   ]
  },
  {
   "cell_type": "code",
   "execution_count": 44,
   "id": "454e7790",
   "metadata": {},
   "outputs": [
    {
     "name": "stdout",
     "output_type": "stream",
     "text": [
      "  (0, 15)\t1\n",
      "  (0, 75)\t1\n",
      "  (0, 92)\t1\n",
      "  (0, 280)\t1\n",
      "  (0, 695)\t1\n",
      "  (0, 1081)\t1\n",
      "  (0, 1210)\t1\n",
      "  (0, 1282)\t1\n",
      "  (0, 1304)\t2\n",
      "  (0, 1647)\t1\n",
      "  (0, 1858)\t1\n",
      "  (0, 1874)\t1\n",
      "  (0, 2413)\t2\n",
      "  (0, 2649)\t2\n",
      "  (0, 2667)\t1\n",
      "  (0, 2790)\t1\n",
      "  (0, 2791)\t3\n",
      "  (0, 3165)\t1\n",
      "  (0, 3167)\t1\n",
      "  (0, 3183)\t2\n",
      "  (0, 3188)\t1\n",
      "  (1, 75)\t1\n",
      "  (1, 317)\t1\n",
      "  (1, 663)\t1\n",
      "  (1, 695)\t1\n",
      "  :\t:\n",
      "  (1040, 2145)\t1\n",
      "  (1040, 2460)\t1\n",
      "  (1040, 2538)\t1\n",
      "  (1040, 2564)\t1\n",
      "  (1040, 2565)\t1\n",
      "  (1040, 2771)\t1\n",
      "  (1040, 2876)\t1\n",
      "  (1040, 2923)\t1\n",
      "  (1040, 2928)\t1\n",
      "  (1040, 3100)\t1\n",
      "  (1040, 3183)\t3\n",
      "  (1041, 611)\t1\n",
      "  (1041, 624)\t1\n",
      "  (1041, 695)\t1\n",
      "  (1041, 863)\t1\n",
      "  (1041, 1072)\t1\n",
      "  (1041, 1120)\t1\n",
      "  (1041, 1227)\t1\n",
      "  (1041, 1399)\t1\n",
      "  (1041, 2145)\t2\n",
      "  (1041, 2305)\t1\n",
      "  (1041, 2551)\t1\n",
      "  (1041, 2665)\t1\n",
      "  (1041, 2944)\t1\n",
      "  (1041, 3183)\t1\n"
     ]
    }
   ],
   "source": [
    "term_frequency_all = term_fit.transform(df_disini['tweet'])\n",
    "print (term_frequency_all)"
   ]
  },
  {
   "cell_type": "code",
   "execution_count": 45,
   "id": "a5f240b3",
   "metadata": {},
   "outputs": [
    {
     "name": "stdout",
     "output_type": "stream",
     "text": [
      "syarat jalan polymerase chain reaction antigen vaksin covid 19 lengkap\n"
     ]
    }
   ],
   "source": [
    "tweet_tf = df_disini['tweet'][1] #memanggil tweet kolom yg diinginkan\n",
    "print (tweet_tf)"
   ]
  },
  {
   "cell_type": "code",
   "execution_count": 46,
   "id": "cd89404f",
   "metadata": {},
   "outputs": [
    {
     "name": "stdout",
     "output_type": "stream",
     "text": [
      "  (0, 75)\t1\n",
      "  (0, 317)\t1\n",
      "  (0, 663)\t1\n",
      "  (0, 695)\t1\n",
      "  (0, 1295)\t1\n",
      "  (0, 1739)\t1\n",
      "  (0, 2334)\t1\n",
      "  (0, 2463)\t1\n",
      "  (0, 2900)\t1\n",
      "  (0, 3183)\t1\n"
     ]
    }
   ],
   "source": [
    "term_frequency = term_fit.transform([tweet_tf]) #hanya menampilkan tweet kolom yg diinginkan\n",
    "print (term_frequency)"
   ]
  },
  {
   "cell_type": "code",
   "execution_count": 47,
   "id": "8460d122",
   "metadata": {},
   "outputs": [
    {
     "name": "stdout",
     "output_type": "stream",
     "text": [
      "[7.25670927 7.25670927 7.25670927 ... 7.25670927 6.85124417 7.25670927]\n",
      "  (0, 3183)\t0.08786095108937525\n",
      "  (0, 2900)\t0.3912677407192882\n",
      "  (0, 2463)\t0.3702822807264596\n",
      "  (0, 2334)\t0.3729709082543995\n",
      "  (0, 1739)\t0.31213516724370505\n",
      "  (0, 1295)\t0.3816100272970601\n",
      "  (0, 695)\t0.08643781328988147\n",
      "  (0, 663)\t0.3729709082543995\n",
      "  (0, 317)\t0.39840230758417056\n",
      "  (0, 75)\t0.12089654378531678\n"
     ]
    }
   ],
   "source": [
    "dokumen = term_fit.transform(df_disini['tweet']) #hasil perhitungan tf idf yg diinginkan\n",
    "tfidf_transformer = TfidfTransformer().fit(dokumen)\n",
    "print (tfidf_transformer.idf_)\n",
    "\n",
    "tfidf=tfidf_transformer.transform(term_frequency)\n",
    "print (tfidf)"
   ]
  },
  {
   "cell_type": "markdown",
   "id": "16ebd1df",
   "metadata": {},
   "source": [
    "## CountVectorizer"
   ]
  },
  {
   "cell_type": "code",
   "execution_count": 48,
   "id": "b591b94c",
   "metadata": {},
   "outputs": [
    {
     "data": {
      "text/plain": [
       "(1042, 3313)"
      ]
     },
     "execution_count": 48,
     "metadata": {},
     "output_type": "execute_result"
    }
   ],
   "source": [
    "bow_vectorizer = CountVectorizer()\n",
    "bow = bow_vectorizer.fit_transform(df_disini['tweet'])\n",
    "bow.shape"
   ]
  },
  {
   "cell_type": "markdown",
   "id": "e9f13a72",
   "metadata": {},
   "source": [
    "## membagi data train dan testing"
   ]
  },
  {
   "cell_type": "code",
   "execution_count": 49,
   "id": "f79719e8",
   "metadata": {},
   "outputs": [],
   "source": [
    "#df_disini=df_disini.fillna(0) #replace all null values by 0\n",
    "from sklearn.model_selection import train_test_split\n",
    "X_train, X_test, y_train, y_test = train_test_split(bow, df_disini['sentimen'],\n",
    "                                                    test_size=0.2, random_state=42)"
   ]
  },
  {
   "cell_type": "code",
   "execution_count": 50,
   "id": "b06baf86",
   "metadata": {},
   "outputs": [
    {
     "name": "stdout",
     "output_type": "stream",
     "text": [
      "train_shape :  (833,)\n",
      "test_shape :  (209,)\n"
     ]
    }
   ],
   "source": [
    "#print(\"X_train_shape : \",X_train.shape)\n",
    "#print(\"X_test_shape : \",X_test.shape)\n",
    "print(\"train_shape : \",y_train.shape)\n",
    "print(\"test_shape : \",y_test.shape)"
   ]
  },
  {
   "cell_type": "markdown",
   "id": "32c382db",
   "metadata": {},
   "source": [
    "## naive bayes classifier"
   ]
  },
  {
   "cell_type": "code",
   "execution_count": 51,
   "id": "89751030",
   "metadata": {},
   "outputs": [
    {
     "name": "stdout",
     "output_type": "stream",
     "text": [
      "hasil akurasi nbs:  0.7942583732057417\n"
     ]
    }
   ],
   "source": [
    "from sklearn.naive_bayes import MultinomialNB\n",
    "\n",
    "NBC= MultinomialNB().fit(X_train, y_train) \n",
    "uji_nbc= NBC.predict(X_test)\n",
    "akurasi_nbc = accuracy_score(uji_nbc, y_test)\n",
    "print(\"hasil akurasi nbs: \",akurasi_nbc)"
   ]
  },
  {
   "cell_type": "code",
   "execution_count": 52,
   "id": "889bc9c9",
   "metadata": {},
   "outputs": [
    {
     "data": {
      "text/plain": [
       "array([[ 16,  11,   2],\n",
       "       [  7, 113,  11],\n",
       "       [  4,   8,  37]], dtype=int64)"
      ]
     },
     "execution_count": 52,
     "metadata": {},
     "output_type": "execute_result"
    }
   ],
   "source": [
    "confusion_matrix(y_test, uji_nbc)"
   ]
  },
  {
   "cell_type": "code",
   "execution_count": 53,
   "id": "1080d3d4",
   "metadata": {},
   "outputs": [
    {
     "data": {
      "image/png": "[encoded data removed]",
      "text/plain": [
       "<Figure size 432x288 with 1 Axes>"
      ]
     },
     "metadata": {
      "needs_background": "light"
     },
     "output_type": "display_data"
    }
   ],
   "source": [
    "#plt.figure(dpi=100)\n",
    "matrix = confusion_matrix(y_test, uji_nbc)\n",
    "sns.heatmap(matrix.T, annot=True, fmt='d', cbar=False)\n",
    "\n",
    "plt.title(' Naive Bayes Classifier ')\n",
    "plt.xlabel('true')\n",
    "plt.ylabel('predicted')\n",
    "plt.show()"
   ]
  },
  {
   "cell_type": "code",
   "execution_count": 54,
   "id": "9533757c",
   "metadata": {},
   "outputs": [
    {
     "name": "stdout",
     "output_type": "stream",
     "text": [
      "hasil akurasi nbs:  0.7942583732057417\n"
     ]
    }
   ],
   "source": [
    "akurasi_nbc = accuracy_score(uji_nbc, y_test)\n",
    "print(\"hasil akurasi nbs: \",akurasi_nbc)"
   ]
  },
  {
   "cell_type": "code",
   "execution_count": 55,
   "id": "277750ac",
   "metadata": {},
   "outputs": [
    {
     "name": "stdout",
     "output_type": "stream",
     "text": [
      "              precision    recall  f1-score   support\n",
      "\n",
      "     negatif       0.59      0.55      0.57        29\n",
      "      netral       0.86      0.86      0.86       131\n",
      "     positif       0.74      0.76      0.75        49\n",
      "\n",
      "    accuracy                           0.79       209\n",
      "   macro avg       0.73      0.72      0.73       209\n",
      "weighted avg       0.79      0.79      0.79       209\n",
      "\n"
     ]
    }
   ],
   "source": [
    "from sklearn.metrics import classification_report\n",
    "print(classification_report(y_test,uji_nbc))"
   ]
  },
  {
   "cell_type": "markdown",
   "id": "ce68dd1d",
   "metadata": {},
   "source": [
    "## suport vector machine"
   ]
  },
  {
   "cell_type": "code",
   "execution_count": 56,
   "id": "fc582948",
   "metadata": {},
   "outputs": [],
   "source": [
    "from sklearn.svm import SVC\n",
    "\n",
    "SVM = SVC(kernel='linear').fit(X_train, y_train) \n",
    "uji_svm = SVM.predict(X_test)"
   ]
  },
  {
   "cell_type": "code",
   "execution_count": 57,
   "id": "b813b685",
   "metadata": {},
   "outputs": [
    {
     "data": {
      "image/png": "[encoded data removed]",
      "text/plain": [
       "<Figure size 432x288 with 1 Axes>"
      ]
     },
     "metadata": {
      "needs_background": "light"
     },
     "output_type": "display_data"
    }
   ],
   "source": [
    "matrix = confusion_matrix(y_test, uji_svm)\n",
    "sns.heatmap(matrix.T, annot=True, fmt='d', cbar=False)\n",
    "\n",
    "plt.title('support vector machine ')\n",
    "plt.xlabel('true ')\n",
    "plt.ylabel('predicted')\n",
    "plt.show()"
   ]
  },
  {
   "cell_type": "code",
   "execution_count": 58,
   "id": "b220ec49",
   "metadata": {},
   "outputs": [
    {
     "name": "stdout",
     "output_type": "stream",
     "text": [
      "hasil akurasi svm:  0.7990430622009569\n"
     ]
    }
   ],
   "source": [
    "akurasi_svm = accuracy_score(uji_svm, y_test)\n",
    "print(\"hasil akurasi svm: \",akurasi_svm)"
   ]
  },
  {
   "cell_type": "code",
   "execution_count": 59,
   "id": "a82ed540",
   "metadata": {},
   "outputs": [
    {
     "name": "stdout",
     "output_type": "stream",
     "text": [
      "              precision    recall  f1-score   support\n",
      "\n",
      "     negatif       0.43      0.45      0.44        29\n",
      "      netral       0.84      0.89      0.86       131\n",
      "     positif       0.93      0.78      0.84        49\n",
      "\n",
      "    accuracy                           0.80       209\n",
      "   macro avg       0.73      0.70      0.72       209\n",
      "weighted avg       0.80      0.80      0.80       209\n",
      "\n"
     ]
    }
   ],
   "source": [
    "from sklearn.metrics import classification_report\n",
    "print(classification_report(y_test, uji_svm))"
   ]
  },
  {
   "cell_type": "markdown",
   "id": "fc6bdfd7",
   "metadata": {},
   "source": [
    "## KNeighborsClassifier"
   ]
  },
  {
   "cell_type": "code",
   "execution_count": 64,
   "id": "5e99e8fc",
   "metadata": {},
   "outputs": [],
   "source": [
    "from sklearn.neighbors import KNeighborsClassifier\n",
    "\n",
    "KNN = KNeighborsClassifier(n_neighbors=5).fit(X_train, y_train) \n",
    "uji_knn = KNN.predict(X_test)"
   ]
  },
  {
   "cell_type": "code",
   "execution_count": 65,
   "id": "5c5da3f5",
   "metadata": {},
   "outputs": [
    {
     "data": {
      "image/png": "[encoded data removed]",
      "text/plain": [
       "<Figure size 432x288 with 1 Axes>"
      ]
     },
     "metadata": {
      "needs_background": "light"
     },
     "output_type": "display_data"
    }
   ],
   "source": [
    "matrix = confusion_matrix(y_test, uji_knn)\n",
    "sns.heatmap(matrix.T, annot=True, fmt='d', cbar=False)\n",
    "\n",
    "plt.title('k-nearest neighbors')\n",
    "plt.xlabel('true')\n",
    "plt.ylabel('predicted')\n",
    "plt.show()\n"
   ]
  },
  {
   "cell_type": "code",
   "execution_count": 66,
   "id": "6f3719fb",
   "metadata": {},
   "outputs": [
    {
     "name": "stdout",
     "output_type": "stream",
     "text": [
      "hasil akurasi k-nn:  0.7272727272727273\n"
     ]
    }
   ],
   "source": [
    "akurasi_knn = accuracy_score(uji_knn, y_test)\n",
    "print(\"hasil akurasi k-nn: \",akurasi_knn)"
   ]
  },
  {
   "cell_type": "markdown",
   "id": "e7e9f37e",
   "metadata": {},
   "source": [
    "# "
   ]
  },
  {
   "cell_type": "code",
   "execution_count": 67,
   "id": "7351eaca",
   "metadata": {},
   "outputs": [
    {
     "name": "stdout",
     "output_type": "stream",
     "text": [
      "              precision    recall  f1-score   support\n",
      "\n",
      "     negatif       0.24      0.24      0.24        29\n",
      "      netral       0.77      0.88      0.82       131\n",
      "     positif       0.97      0.61      0.75        49\n",
      "\n",
      "    accuracy                           0.73       209\n",
      "   macro avg       0.66      0.58      0.60       209\n",
      "weighted avg       0.74      0.73      0.72       209\n",
      "\n"
     ]
    }
   ],
   "source": [
    "from sklearn.metrics import classification_report\n",
    "print(classification_report(y_test, uji_knn))"
   ]
  },
  {
   "cell_type": "code",
   "execution_count": null,
   "id": "0aa41d13",
   "metadata": {},
   "outputs": [],
   "source": []
  },
  {
   "cell_type": "code",
   "execution_count": null,
   "id": "7a0d9a6b",
   "metadata": {},
   "outputs": [],
   "source": []
  }
 ],
 "metadata": {
  "kernelspec": {
   "display_name": "Python 3",
   "language": "python",
   "name": "python3"
  },
  "language_info": {
   "codemirror_mode": {
    "name": "ipython",
    "version": 3
   },
   "file_extension": ".py",
   "mimetype": "text/x-python",
   "name": "python",
   "nbconvert_exporter": "python",
   "pygments_lexer": "ipython3",
   "version": "3.8.8"
  }
 },
 "nbformat": 4,
 "nbformat_minor": 5
}
