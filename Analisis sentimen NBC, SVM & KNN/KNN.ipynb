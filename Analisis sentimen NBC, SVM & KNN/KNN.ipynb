{
 "cells": [
  {
   "cell_type": "code",
   "execution_count": 1,
   "id": "637ab420",
   "metadata": {},
   "outputs": [
    {
     "data": {
      "text/html": [
       "<div>\n",
       "<style scoped>\n",
       "    .dataframe tbody tr th:only-of-type {\n",
       "        vertical-align: middle;\n",
       "    }\n",
       "\n",
       "    .dataframe tbody tr th {\n",
       "        vertical-align: top;\n",
       "    }\n",
       "\n",
       "    .dataframe thead th {\n",
       "        text-align: right;\n",
       "    }\n",
       "</style>\n",
       "<table border=\"1\" class=\"dataframe\">\n",
       "  <thead>\n",
       "    <tr style=\"text-align: right;\">\n",
       "      <th></th>\n",
       "      <th>username</th>\n",
       "      <th>tanggal</th>\n",
       "      <th>tweet</th>\n",
       "      <th>sentimen</th>\n",
       "    </tr>\n",
       "  </thead>\n",
       "  <tbody>\n",
       "    <tr>\n",
       "      <th>0</th>\n",
       "      <td>pkmjangkar</td>\n",
       "      <td>3/7/2022 23:58</td>\n",
       "      <td>update jadwal vaksinasi covid 19 upt puskesmas...</td>\n",
       "      <td>positif</td>\n",
       "    </tr>\n",
       "    <tr>\n",
       "      <th>1</th>\n",
       "      <td>CNNIndonesia</td>\n",
       "      <td>3/7/2022 23:57</td>\n",
       "      <td>syarat jalan polymerase chain reaction antigen...</td>\n",
       "      <td>netral</td>\n",
       "    </tr>\n",
       "    <tr>\n",
       "      <th>2</th>\n",
       "      <td>DindaNatasha15</td>\n",
       "      <td>3/7/2022 23:56</td>\n",
       "      <td>perintah pasti vaksin covid 19 bukti aman uji ...</td>\n",
       "      <td>positif</td>\n",
       "    </tr>\n",
       "    <tr>\n",
       "      <th>3</th>\n",
       "      <td>juvejack</td>\n",
       "      <td>3/7/2022 23:49</td>\n",
       "      <td>menko maritim investasi luhut pandjaitan tanga...</td>\n",
       "      <td>netral</td>\n",
       "    </tr>\n",
       "    <tr>\n",
       "      <th>4</th>\n",
       "      <td>nengsunshine</td>\n",
       "      <td>3/7/2022 23:47</td>\n",
       "      <td>ok google negatif covid vaksin</td>\n",
       "      <td>netral</td>\n",
       "    </tr>\n",
       "  </tbody>\n",
       "</table>\n",
       "</div>"
      ],
      "text/plain": [
       "         username         tanggal  \\\n",
       "0      pkmjangkar  3/7/2022 23:58   \n",
       "1    CNNIndonesia  3/7/2022 23:57   \n",
       "2  DindaNatasha15  3/7/2022 23:56   \n",
       "3        juvejack  3/7/2022 23:49   \n",
       "4    nengsunshine  3/7/2022 23:47   \n",
       "\n",
       "                                               tweet sentimen  \n",
       "0  update jadwal vaksinasi covid 19 upt puskesmas...  positif  \n",
       "1  syarat jalan polymerase chain reaction antigen...   netral  \n",
       "2  perintah pasti vaksin covid 19 bukti aman uji ...  positif  \n",
       "3  menko maritim investasi luhut pandjaitan tanga...   netral  \n",
       "4                     ok google negatif covid vaksin   netral  "
      ]
     },
     "execution_count": 1,
     "metadata": {},
     "output_type": "execute_result"
    }
   ],
   "source": [
    "import pandas as pd \n",
    "\n",
    "tweets = pd.read_csv('labeling data.csv')\n",
    "tweets.head()"
   ]
  },
  {
   "cell_type": "code",
   "execution_count": 2,
   "id": "b50316e9",
   "metadata": {},
   "outputs": [],
   "source": [
    "features = tweets.iloc[:, 2].values\n",
    "labels = tweets.iloc[:, 3].values"
   ]
  },
  {
   "cell_type": "markdown",
   "id": "76ce0cbc",
   "metadata": {},
   "source": [
    "## Mengekstrak fitur dan menyimpannya ke dalam future training matriks "
   ]
  },
  {
   "cell_type": "code",
   "execution_count": 3,
   "id": "0f53dd96",
   "metadata": {},
   "outputs": [],
   "source": [
    "features_pp = []\n",
    "for i in range(0, len(features)):\n",
    "    feature_pp = (str(features[i]))\n",
    "    features_pp.append(feature_pp)"
   ]
  },
  {
   "cell_type": "markdown",
   "id": "1da4f8c9",
   "metadata": {},
   "source": [
    "## TfidfVectorizer"
   ]
  },
  {
   "cell_type": "code",
   "execution_count": 4,
   "id": "cedad2c0",
   "metadata": {},
   "outputs": [
    {
     "name": "stderr",
     "output_type": "stream",
     "text": [
      "C:\\Users\\ASUS\\anaconda3\\lib\\site-packages\\sklearn\\feature_extraction\\text.py:404: UserWarning: Your stop_words may be inconsistent with your preprocessing. Tokenizing the stop words generated tokens ['baiknya', 'berkali', 'kali', 'kurangnya', 'mata', 'olah', 'sekurang', 'setidak', 'tama', 'tidaknya'] not in stop_words.\n",
      "  warnings.warn(\n"
     ]
    }
   ],
   "source": [
    "from sklearn.feature_extraction.text import TfidfVectorizer\n",
    "import nltk\n",
    "\n",
    "from nltk.corpus import stopwords\n",
    "\n",
    "vectorizer = TfidfVectorizer(max_features=2500, stop_words=stopwords.words('indonesian'))\n",
    "features_pp = vectorizer.fit_transform(features_pp).toarray()"
   ]
  },
  {
   "cell_type": "code",
   "execution_count": 5,
   "id": "9ed0516c",
   "metadata": {},
   "outputs": [],
   "source": [
    "from sklearn.model_selection import train_test_split\n",
    "\n",
    "X_train, X_test, y_train, y_test = train_test_split(\n",
    "    features_pp, labels, test_size=0.2, random_state=42)"
   ]
  },
  {
   "cell_type": "code",
   "execution_count": 6,
   "id": "2a0c7725",
   "metadata": {},
   "outputs": [],
   "source": [
    "import numpy as np\n",
    "import pandas as pd\n",
    "from collections import Counter\n",
    "from sklearn.feature_extraction.text import CountVectorizer, TfidfTransformer"
   ]
  },
  {
   "cell_type": "code",
   "execution_count": 7,
   "id": "b4c33ec0",
   "metadata": {},
   "outputs": [],
   "source": [
    "class KNN:\n",
    "    def __init__(self,k=3):\n",
    "        self.K=k\n",
    "    def train(self,X,y):\n",
    "        self.X_train=X\n",
    "        self.y_train=y\n",
    "    def predict(self,X):\n",
    "        y_prediksi=[self._prediksi(x)for x in X]\n",
    "        return np.array(y_prediksi)\n",
    "    \n",
    "    def _prediksi(self,x):\n",
    "        #jarak kesemua data training\n",
    "        jarak_titik=[self.jarak(x,x_train) for x_train in self.X_train]\n",
    "        #urutkan jarak terdekat\n",
    "        k_terbaik=np.argsort(jarak_titik)[:self.K]\n",
    "        #ambil label\n",
    "        label_k_terbaik=[self.y_train[i] for i in k_terbaik]\n",
    "        #hasil yang banyak\n",
    "        hasil_voting=Counter(label_k_terbaik).most_common(1)\n",
    "        return hasil_voting[0][0]\n",
    "        \n",
    "        \n",
    "    def jarak(self,x1,x2):\n",
    "        return np.sqrt(np.sum((x1-x2)**2))"
   ]
  },
  {
   "cell_type": "code",
   "execution_count": 8,
   "id": "6a3c6d2f",
   "metadata": {},
   "outputs": [
    {
     "name": "stdout",
     "output_type": "stream",
     "text": [
      "['negatif' 'netral' 'netral' 'netral' 'netral' 'positif' 'netral' 'netral'\n",
      " 'netral' 'netral' 'positif' 'positif' 'positif' 'netral' 'netral'\n",
      " 'netral' 'netral' 'positif' 'netral' 'positif' 'netral' 'netral' 'netral'\n",
      " 'netral' 'netral' 'netral' 'netral' 'negatif' 'positif' 'positif'\n",
      " 'netral' 'netral' 'positif' 'negatif' 'netral' 'positif' 'netral'\n",
      " 'netral' 'netral' 'netral' 'netral' 'positif' 'positif' 'netral'\n",
      " 'negatif' 'negatif' 'netral' 'netral' 'negatif' 'netral' 'netral'\n",
      " 'netral' 'positif' 'positif' 'negatif' 'positif' 'netral' 'netral'\n",
      " 'netral' 'netral' 'positif' 'netral' 'positif' 'netral' 'netral' 'netral'\n",
      " 'netral' 'negatif' 'netral' 'netral' 'netral' 'netral' 'netral' 'positif'\n",
      " 'negatif' 'netral' 'negatif' 'negatif' 'positif' 'netral' 'netral'\n",
      " 'netral' 'netral' 'netral' 'positif' 'netral' 'netral' 'positif' 'netral'\n",
      " 'netral' 'negatif' 'netral' 'positif' 'netral' 'netral' 'netral' 'netral'\n",
      " 'netral' 'positif' 'netral' 'negatif' 'negatif' 'negatif' 'netral'\n",
      " 'netral' 'netral' 'netral' 'netral' 'netral' 'positif' 'netral' 'negatif'\n",
      " 'negatif' 'negatif' 'positif' 'positif' 'netral' 'netral' 'positif'\n",
      " 'netral' 'positif' 'netral' 'negatif' 'netral' 'netral' 'netral' 'netral'\n",
      " 'netral' 'netral' 'netral' 'negatif' 'negatif' 'netral' 'netral' 'netral'\n",
      " 'netral' 'netral' 'netral' 'netral' 'negatif' 'netral' 'netral' 'netral'\n",
      " 'positif' 'netral' 'positif' 'netral' 'netral' 'negatif' 'netral'\n",
      " 'netral' 'positif' 'netral' 'netral' 'netral' 'positif' 'positif'\n",
      " 'netral' 'netral' 'positif' 'netral' 'netral' 'netral' 'netral' 'netral'\n",
      " 'netral' 'netral' 'positif' 'positif' 'netral' 'positif' 'positif'\n",
      " 'netral' 'positif' 'netral' 'netral' 'netral' 'netral' 'positif' 'netral'\n",
      " 'positif' 'netral' 'netral' 'netral' 'netral' 'netral' 'netral' 'netral'\n",
      " 'netral' 'positif' 'netral' 'netral' 'positif' 'positif' 'netral'\n",
      " 'positif' 'netral' 'positif' 'netral' 'positif' 'netral' 'netral'\n",
      " 'positif' 'netral' 'positif' 'negatif' 'netral' 'positif' 'netral']\n"
     ]
    }
   ],
   "source": [
    "model=KNN(k=3)\n",
    "model.train(X_train,y_train)\n",
    "hasil =model.predict(X_test)\n",
    "print(hasil)"
   ]
  },
  {
   "cell_type": "code",
   "execution_count": 9,
   "id": "697705bc",
   "metadata": {},
   "outputs": [
    {
     "name": "stdout",
     "output_type": "stream",
     "text": [
      "[[0. 0. 0. ... 0. 0. 0.]\n",
      " [0. 0. 0. ... 0. 0. 0.]\n",
      " [0. 0. 0. ... 0. 0. 0.]\n",
      " ...\n",
      " [0. 0. 0. ... 0. 0. 0.]\n",
      " [0. 0. 0. ... 0. 0. 0.]\n",
      " [0. 0. 0. ... 0. 0. 0.]]\n"
     ]
    }
   ],
   "source": [
    "print(X_train)\n",
    "#print(y_train)"
   ]
  },
  {
   "cell_type": "code",
   "execution_count": 10,
   "id": "e29fdfdd",
   "metadata": {},
   "outputs": [
    {
     "name": "stdout",
     "output_type": "stream",
     "text": [
      "akurasi 0.784688995215311\n"
     ]
    }
   ],
   "source": [
    "akurasi=np.sum(hasil==y_test)/len(X_test)\n",
    "print(\"akurasi\",akurasi)"
   ]
  },
  {
   "cell_type": "code",
   "execution_count": 11,
   "id": "f65c40e0",
   "metadata": {},
   "outputs": [
    {
     "data": {
      "text/plain": [
       "array([[ 12,  13,   4],\n",
       "       [  7, 115,   9],\n",
       "       [  5,   7,  37]], dtype=int64)"
      ]
     },
     "execution_count": 11,
     "metadata": {},
     "output_type": "execute_result"
    }
   ],
   "source": [
    "from sklearn.metrics import confusion_matrix\n",
    "confusion_matrix(y_test, hasil)"
   ]
  },
  {
   "cell_type": "code",
   "execution_count": 12,
   "id": "ab86a8c2",
   "metadata": {},
   "outputs": [
    {
     "name": "stdout",
     "output_type": "stream",
     "text": [
      "\n",
      "Confusion Matrix\n",
      "[[ 12  13   4]\n",
      " [  7 115   9]\n",
      " [  5   7  37]]\n",
      "\n",
      "Classification Report\n",
      "              precision    recall  f1-score   support\n",
      "\n",
      "     negatif       0.50      0.41      0.45        29\n",
      "      netral       0.85      0.88      0.86       131\n",
      "     positif       0.74      0.76      0.75        49\n",
      "\n",
      "    accuracy                           0.78       209\n",
      "   macro avg       0.70      0.68      0.69       209\n",
      "weighted avg       0.78      0.78      0.78       209\n",
      "\n",
      "\n",
      "Accuracy\n",
      "78.4688995215311 %\n"
     ]
    }
   ],
   "source": [
    "from sklearn.metrics import classification_report, confusion_matrix, accuracy_score\n",
    "\n",
    "print(\"\\nConfusion Matrix\")\n",
    "print(confusion_matrix(y_test, hasil))\n",
    "\n",
    "print(\"\\nClassification Report\")\n",
    "print(classification_report(y_test, hasil))\n",
    "\n",
    "print(\"\\nAccuracy\")\n",
    "print(accuracy_score(y_test, hasil)*100, '%')"
   ]
  }
 ],
 "metadata": {
  "kernelspec": {
   "display_name": "Python 3",
   "language": "python",
   "name": "python3"
  },
  "language_info": {
   "codemirror_mode": {
    "name": "ipython",
    "version": 3
   },
   "file_extension": ".py",
   "mimetype": "text/x-python",
   "name": "python",
   "nbconvert_exporter": "python",
   "pygments_lexer": "ipython3",
   "version": "3.8.8"
  }
 },
 "nbformat": 4,
 "nbformat_minor": 5
}
