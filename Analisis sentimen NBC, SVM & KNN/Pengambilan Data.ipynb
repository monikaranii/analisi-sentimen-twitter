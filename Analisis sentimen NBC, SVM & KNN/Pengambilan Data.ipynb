{
 "cells": [
  {
   "cell_type": "markdown",
   "id": "c7ff333e",
   "metadata": {},
   "source": [
    "# proses crawling data menggunakan API twitter"
   ]
  },
  {
   "cell_type": "code",
   "execution_count": 1,
   "id": "e19faf6e",
   "metadata": {},
   "outputs": [],
   "source": [
    "from tweepy import OAuthHandler\n",
    "import tweepy\n",
    "import csv\n",
    "import pandas as pd"
   ]
  },
  {
   "cell_type": "markdown",
   "id": "c09a20f1",
   "metadata": {},
   "source": [
    "## token dapat di ambil pada halaman develope twitter"
   ]
  },
  {
   "cell_type": "code",
   "execution_count": 2,
   "id": "396bdf8f",
   "metadata": {},
   "outputs": [],
   "source": [
    "access_token=\" \"\n",
    "access_token_secret=\" \"\n",
    "consumer_key=\" \"\n",
    "consumer_secret=\" \""
   ]
  },
  {
   "cell_type": "markdown",
   "id": "803207be",
   "metadata": {},
   "source": [
    "## proses crawling dengan menggambil data menggunakan keyword yang diinginkan"
   ]
  },
  {
   "cell_type": "code",
   "execution_count": 3,
   "id": "d45299a3",
   "metadata": {},
   "outputs": [
    {
     "name": "stdout",
     "output_type": "stream",
     "text": [
      "Proses Scrapping Selesai Dengan Jumlah Data 2500\n"
     ]
    }
   ],
   "source": [
    "auth = OAuthHandler(consumer_key, consumer_secret)\n",
    "auth.set_access_token(access_token, access_token_secret)\n",
    "api = tweepy.API(auth)\n",
    "\n",
    "def scraptweets(search_words, date_since, date_until):\n",
    "\n",
    "    db_tweets = pd.DataFrame(columns=['username', 'tanggal', 'tweet'])\n",
    "\n",
    "    tweets = tweepy.Cursor(\n",
    "                    api.search, q=search_words, lang=\"id\", \n",
    "                    since=date_since, until=date_until,  tweet_mode='extended').items(2500)\n",
    "\n",
    "    tweet_list = [tweet for tweet in tweets]\n",
    "\n",
    "    for tweet in tweet_list:\n",
    "        username = tweet.user.screen_name\n",
    "        tweetcreatedts = tweet.created_at\n",
    "\n",
    "        try:\n",
    "            text = tweet.retweeted_status.full_text\n",
    "        except AttributeError:\n",
    "            text = tweet.full_text\n",
    "\n",
    "        ith_tweet = [username, tweetcreatedts, text]\n",
    "\n",
    "        db_tweets.loc[len(db_tweets)] = ith_tweet\n",
    "    \n",
    "    print('Proses Scrapping Selesai Dengan Jumlah Data', len(db_tweets))\n",
    "    filename = 'data_tweet_vaksin.csv'\n",
    "    db_tweets.to_csv(filename, index=False)\n",
    "\n",
    "# Format Pencarian Data Tweet\n",
    "search_words = \"vaksin covid 19 OR vaksin covid OR astrazeneca OR sinovac OR moderna OR pfizer OR Novavax OR Sinopharm\"\n",
    "date_since = \"2022-03-01\"\n",
    "date_until = \"2022-03-08\"\n",
    "\n",
    "scraptweets(search_words, date_since, date_until)"
   ]
  },
  {
   "cell_type": "code",
   "execution_count": null,
   "id": "b8fa9745",
   "metadata": {},
   "outputs": [],
   "source": []
  }
 ],
 "metadata": {
  "kernelspec": {
   "display_name": "Python 3",
   "language": "python",
   "name": "python3"
  },
  "language_info": {
   "codemirror_mode": {
    "name": "ipython",
    "version": 3
   },
   "file_extension": ".py",
   "mimetype": "text/x-python",
   "name": "python",
   "nbconvert_exporter": "python",
   "pygments_lexer": "ipython3",
   "version": "3.8.8"
  }
 },
 "nbformat": 4,
 "nbformat_minor": 5
}
